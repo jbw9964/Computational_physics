{
 "cells": [
  {
   "attachments": {},
   "cell_type": "markdown",
   "metadata": {},
   "source": [
    "#### Problem 1"
   ]
  },
  {
   "cell_type": "code",
   "execution_count": 60,
   "metadata": {},
   "outputs": [],
   "source": [
    "import numpy as np\n",
    "from numpy import log2\n",
    "\n",
    "def Trapezoid_data(x_data, y_data, panels) : \n",
    "    n = len(x_data) - 1\n",
    "\n",
    "    if panels > n : \n",
    "        print(f\"Panel must be less then [{n}] : [{panels}]\")\n",
    "        return\n",
    "    \n",
    "    Area = 0\n",
    "    for i in range(len(x_data) - 1) : \n",
    "        width = x_data[i + 1] - x_data[i]\n",
    "        height = y_data[i] + y_data[i + 1]\n",
    "\n",
    "        area = width * height / 2\n",
    "        Area += area\n",
    "\n",
    "    return Area\n",
    "\n",
    "def Trapezoid_func(func, a, b, panels) : \n",
    "    x_data = np.linspace(a, b, panels + 1)\n",
    "    y_data = func(x_data)\n",
    "\n",
    "    return Trapezoid_data(x_data=x_data, y_data=y_data, panels=panels)\n",
    "\n",
    "def Recursive_Trapezoid_func(func, a, b, k, I_old=None) : \n",
    "    \n",
    "    H = b - a\n",
    "    if k == 1 : \n",
    "        return (func(a) + func(b)) * H / 2\n",
    "    \n",
    "    n = 2**(k - 2)\n",
    "    h = (b - a) / n\n",
    "    x = a + h / 2\n",
    "\n",
    "    if I_old == None : \n",
    "        I_old = Trapezoid_func(func=func, a=a, b=b, panels=n)\n",
    "    \n",
    "    sum = 0\n",
    "    for i in range(n) : \n",
    "        sum += func(x)\n",
    "        x += h\n",
    "    \n",
    "    return (I_old + h * sum) / 2\n",
    "\n",
    "def Recursive_Trapezoid_data(x_data, y_data, I_old=None) : \n",
    "    H = x_data[-1] - x_data[0]\n",
    "    n = len(x_data) - 1\n",
    "\n",
    "    if n != 2**int(log2(n)) : \n",
    "        print(\"x_data must have lenght of [2**i + 1] : [{}]\".format(len(x_data)))\n",
    "        return\n",
    "    elif n == 1 : \n",
    "        return (y_data[0] + y_data[-1]) * H / 2\n",
    "\n",
    "    if I_old == None : \n",
    "        I_old = Trapezoid_data(x_data=x_data, y_data=y_data, panels=2**int(log2(n) - 1))\n",
    "\n",
    "    sum = 0\n",
    "    for i in range(1, n, 2) : \n",
    "        sum += H / n * y_data[i]\n",
    "    \n",
    "    return I_old / 2 + sum\n"
   ]
  },
  {
   "cell_type": "code",
   "execution_count": 61,
   "metadata": {},
   "outputs": [],
   "source": [
    "def Romberg_2D_func(func, a, b, n) : \n",
    "    R_matrix = np.zeros(shape=(n,n), dtype=float)\n",
    "    R_matrix[0,0] = Recursive_Trapezoid_func(func, a, b, k=1)\n",
    "    for i in range(1, n) : \n",
    "        R_matrix[i, 0] = Recursive_Trapezoid_func(\n",
    "            func, a, b, k=i+1, I_old=R_matrix[i - 1, 0]\n",
    "        )\n",
    "    \n",
    "    for j in range(1, n) : \n",
    "        for i in range(j, n) : \n",
    "            R_matrix[i,j] = (\n",
    "                4**j * R_matrix[i, j - 1] - R_matrix[i - 1, j - 1]\n",
    "            ) / (4**j - 1)\n",
    "    \n",
    "    return R_matrix\n"
   ]
  },
  {
   "cell_type": "code",
   "execution_count": 62,
   "metadata": {},
   "outputs": [
    {
     "name": "stdout",
     "output_type": "stream",
     "text": [
      "[[0.27219826 0.         0.         0.        ]\n",
      " [0.27219826 0.27219826 0.         0.        ]\n",
      " [0.27219826 0.27219826 0.27219826 0.        ]\n",
      " [0.27219826 0.27219826 0.27219826 0.27219826]]\n",
      "\n",
      "Most accurate : [0.2721982613]\n"
     ]
    }
   ],
   "source": [
    "from numpy import log, tan, pi\n",
    "\n",
    "def f(x) : \n",
    "    return log(1 + tan(x))\n",
    "\n",
    "R = Romberg_2D_func(f, 0, pi / 4, n=4)\n",
    "\n",
    "print(R, end=\"\\n\\n\")\n",
    "print(\"Most accurate : [{:.10f}]\".format(R[-1,-1]))"
   ]
  },
  {
   "attachments": {},
   "cell_type": "markdown",
   "metadata": {},
   "source": [
    "### Problem 2"
   ]
  },
  {
   "cell_type": "code",
   "execution_count": 63,
   "metadata": {},
   "outputs": [],
   "source": [
    "def Simpson_13(x_data, y_data) : \n",
    "    \n",
    "    n = len(x_data)\n",
    "    \n",
    "    if n == 0 : \n",
    "        h = (x_data[2] - x_data[0]) / 2\n",
    "        return (y_data[0] + 4 * y_data[1] + y_data[2]) * h / 3\n",
    "    \n",
    "    sum = 0\n",
    "    for i in range(0, n - 2, 2) : \n",
    "        h = (x_data[i + 2] - x_data[i]) / 2\n",
    "        sum += (y_data[i] + 4 * y_data[i + 1] + y_data[i + 2]) * h / 3\n",
    "    \n",
    "    return sum\n",
    "\n",
    "def Simpson_38(x_data, y_data) : \n",
    "    h = np.average([x_data[i + 1] - x_data[i] for i in range(len(x_data) - 1)])\n",
    "    \n",
    "    return (y_data[0] + 3 * y_data[1] + 3 * y_data[2] + y_data[3]) * 3 * h / 8\n",
    "\n",
    "def Simpson(x_data, y_data) : \n",
    "    n = len(x_data) - 1\n",
    "\n",
    "    if n % 2 != 0 : \n",
    "        return Simpson_38(x_data[:4], y_data[:4]) + Simpson_13(x_data[3:], y_data[3:])\n",
    "    else : \n",
    "        return Simpson_13(x_data, y_data)\n"
   ]
  },
  {
   "cell_type": "code",
   "execution_count": 64,
   "metadata": {},
   "outputs": [],
   "source": [
    "from numpy import log2\n",
    "\n",
    "def Romberg_2D_data(x_data, y_data) : \n",
    "    if len(x_data) - 1 != 2**int(log2(len(x_data) - 1)) : \n",
    "        print(\"x_data must have lenght of [2**i + 1] : [{}]\".format(len(x_data)))\n",
    "        return\n",
    "    \n",
    "    n = int(log2(len(x_data) - 1)) + 1\n",
    "\n",
    "    R_matrix = np.zeros(shape=(n, n), dtype=float)\n",
    "\n",
    "    H = x_data[-1] - x_data[0]\n",
    "\n",
    "    for i in range(n) : \n",
    "        sum = 0\n",
    "        for j in range(0, len(x_data), 2**(n - i - 1)) : \n",
    "            sum += 2 * y_data[j]\n",
    "        sum -= y_data[0] + y_data[-1]\n",
    "\n",
    "        R_matrix[i,0] = sum * H / (2**(i + 1))\n",
    "\n",
    "    for j in range(1, n) : \n",
    "        for i in range(j, n) : \n",
    "            R_matrix[i,j] = (\n",
    "                4**j * R_matrix[i, j - 1] - R_matrix[i - 1, j - 1]\n",
    "            ) / (4**j - 1)\n",
    "    \n",
    "    return R_matrix\n"
   ]
  },
  {
   "cell_type": "code",
   "execution_count": 65,
   "metadata": {},
   "outputs": [
    {
     "name": "stdout",
     "output_type": "stream",
     "text": [
      "By Trapezoidal rule (4 panels):     [1.52068792]\n",
      "By Simpson's rule :                 [1.37308543]\n",
      "By Romberg integration :            [1.35990470]\n",
      "\n",
      "We CAN NOT evalute it's accuracy since we have few data.\n"
     ]
    }
   ],
   "source": [
    "x_data = np.array([0, pi / 4, pi / 2, 3 * pi / 4, pi], dtype=float)\n",
    "y_data = np.array([1, 0.3431, 0.25, 0.3431, 1], dtype=float)\n",
    "\n",
    "trapz = Trapezoid_data(x_data, y_data, panels=4)\n",
    "simp = Simpson(x_data, y_data)\n",
    "romberg = Romberg_2D_data(x_data, y_data)[-1,-1]\n",
    "print(\n",
    "    \"By Trapezoidal rule (4 panels): \".ljust(35), \n",
    "    \"[{:.8f}]\".format(trapz).ljust(10)\n",
    ")\n",
    "print(\n",
    "    \"By Simpson's rule : \".ljust(35), \n",
    "    \"[{:.8f}]\".format(simp).ljust(10)\n",
    ")\n",
    "\n",
    "print(\n",
    "    \"By Romberg integration : \".ljust(35), \n",
    "    \"[{:.8f}]\".format(romberg).ljust(10),\n",
    "    end=\"\\n\\n\"\n",
    ")\n",
    "\n",
    "print(\"We CAN NOT evalute it's accuracy since we have few data.\")"
   ]
  },
  {
   "cell_type": "code",
   "execution_count": 66,
   "metadata": {},
   "outputs": [
    {
     "name": "stdout",
     "output_type": "stream",
     "text": [
      "For example, let's consider the cubic spline with data\n",
      "\n"
     ]
    },
    {
     "data": {
      "image/png": "[encoded data removed]",
      "text/plain": [
       "<Figure size 640x480 with 1 Axes>"
      ]
     },
     "metadata": {},
     "output_type": "display_data"
    },
    {
     "name": "stdout",
     "output_type": "stream",
     "text": [
      "You can see there's huge gap between cubic splines and 1 order interpolation.\n",
      "Since we don't know the true function of data,\n",
      "it's far more dangerous to say which method has highest accuracy.\n"
     ]
    }
   ],
   "source": [
    "print(\"For example, let's consider the cubic spline with data\", end=\"\\n\\n\")\n",
    "\n",
    "import matplotlib.pyplot as plt\n",
    "from scipy.interpolate import CubicSpline\n",
    "\n",
    "CS = CubicSpline(x_data, y_data, bc_type='natural')\n",
    "plt.plot(x_data, y_data, 'o', label=\"data_point\")\n",
    "plt.plot(x_data, y_data, label=\"data_interpol_1D\")\n",
    "plt.plot(\n",
    "    np.linspace(min(x_data), max(x_data)), \n",
    "    CS(np.linspace(min(x_data), max(x_data))), label=\"cubic_spline\"\n",
    ")\n",
    "plt.legend()\n",
    "plt.show()\n",
    "\n",
    "print(\"You can see there's huge gap between cubic splines and 1 order interpolation.\")\n",
    "print(\"Since we don't know the true function of data,\")\n",
    "print(\"it's far more dangerous to say which method has highest accuracy.\")"
   ]
  },
  {
   "attachments": {},
   "cell_type": "markdown",
   "metadata": {},
   "source": [
    "### Problem 3"
   ]
  },
  {
   "cell_type": "code",
   "execution_count": 68,
   "metadata": {},
   "outputs": [
    {
     "data": {
      "image/png": "[encoded data removed]",
      "text/plain": [
       "<Figure size 640x480 with 1 Axes>"
      ]
     },
     "metadata": {},
     "output_type": "display_data"
    },
    {
     "name": "stdout",
     "output_type": "stream",
     "text": [
      "It seems like there's no improvemence adding more panels.\n",
      "But after k=17, rapid change has been occurred.\n"
     ]
    }
   ],
   "source": [
    "import numpy as np\n",
    "import matplotlib.pylab as plt\n",
    "from numpy import pi, tan, log\n",
    "\n",
    "def f(x) : \n",
    "    return log(1 + tan(x))\n",
    "\n",
    "integ_list = [Recursive_Trapezoid_func(f, 0, pi/4, k=1)]\n",
    "for i in range(25) : \n",
    "    integ_list.append(Recursive_Trapezoid_func(f, 0, pi/4, k=i+1, I_old=integ_list[-1]))\n",
    "\n",
    "plt.plot([i + 1 for i in range(len(integ_list))], integ_list, 'o')\n",
    "plt.plot([i + 1 for i in range(len(integ_list))], integ_list)\n",
    "plt.xlabel(\"k\")\n",
    "plt.show()\n",
    "\n",
    "print(\"It seems like there's no improvemence adding more panels.\")\n",
    "print(\"But after k=17, rapid change has been occurred.\")"
   ]
  },
  {
   "cell_type": "code",
   "execution_count": 69,
   "metadata": {},
   "outputs": [
    {
     "name": "stdout",
     "output_type": "stream",
     "text": [
      "The reason of rapid change is due to the function it self\n"
     ]
    },
    {
     "data": {
      "image/png": "[encoded data removed]",
      "text/plain": [
       "<Figure size 640x480 with 1 Axes>"
      ]
     },
     "metadata": {},
     "output_type": "display_data"
    },
    {
     "name": "stdout",
     "output_type": "stream",
     "text": [
      "When you look closer to the function,\n",
      "it looks perfect line but there's small curvature.\n",
      "Since function is almost linear, adding few panels will affect almost nothing.\n",
      "However if we add enough panels to recognize function's curvature,\n",
      "it will affect immediately.\n",
      "That's why the rapid chnage has been occurred.\n"
     ]
    }
   ],
   "source": [
    "print(\"The reason of rapid change is due to the function it self\")\n",
    "\n",
    "x_range = np.linspace(0, pi / 4, 100)\n",
    "y = f(x_range)\n",
    "\n",
    "plt.plot(x_range, y)\n",
    "plt.show()\n",
    "\n",
    "print(\"When you look closer to the function,\")\n",
    "print(\"it looks perfect line but there's small curvature.\")\n",
    "print(\"Since function is almost linear, adding few panels will affect almost nothing.\")\n",
    "print(\"However if we add enough panels to recognize function's curvature,\")\n",
    "print(\"it will affect immediately.\")\n",
    "print(\"That's why the rapid chnage has been occurred.\")"
   ]
  },
  {
   "cell_type": "code",
   "execution_count": 70,
   "metadata": {},
   "outputs": [
    {
     "name": "stdout",
     "output_type": "stream",
     "text": [
      "But since we only need the integration with tolerance, we can ignore this change.\n",
      "Comparing with scipy.integrate.quad, \n",
      "\n",
      "           Using scipy :  [0.27219826128795027]    \n",
      "     Using trapezoidal :  [0.27219826129325536]    \n",
      "\n",
      "You shall notice the error is negligible.\n"
     ]
    },
    {
     "data": {
      "image/png": "[encoded data removed]",
      "text/plain": [
       "<Figure size 640x480 with 1 Axes>"
      ]
     },
     "metadata": {},
     "output_type": "display_data"
    }
   ],
   "source": [
    "from scipy.integrate import quad\n",
    "\n",
    "print(\"But since we only need the integration with tolerance, we can ignore this change.\")\n",
    "print(\"Comparing with scipy.integrate.quad, \", end=\"\\n\\n\")\n",
    "print(\n",
    "    \"Using scipy : \".rjust(25),\n",
    "    \"[{}]\".format(quad(f, 0, pi / 4)[0]).ljust(25)\n",
    ")\n",
    "print(\n",
    "    \"Using trapezoidal : \".rjust(25), \n",
    "    \"[{}]\".format(integ_list[-1]).ljust(25),\n",
    "    end=\"\\n\\n\"\n",
    ")\n",
    "\n",
    "print(\"You shall notice the error is negligible.\")\n",
    "\n",
    "plt.plot([i + 1 for i in range(len(integ_list))], integ_list)\n",
    "plt.plot([0], quad(f, 0, pi/4)[0], 'o')\n",
    "plt.show()"
   ]
  },
  {
   "attachments": {},
   "cell_type": "markdown",
   "metadata": {},
   "source": [
    "### Problem 4"
   ]
  },
  {
   "attachments": {},
   "cell_type": "markdown",
   "metadata": {},
   "source": [
    "##### $$ \\int_{a}^{b}f(x)dx \\approx \\frac{b - a}{2} \\sum_{i = 1}^{n}A_{i}f(x_{i}) $$\n",
    "\n",
    "$$\n",
    "x_{i} = \\frac{b + a}{2} + \\frac{b - a}{2} \\xi_{i}\n",
    "$$"
   ]
  },
  {
   "attachments": {},
   "cell_type": "markdown",
   "metadata": {},
   "source": [
    "<p align=\"center\">\n",
    "    <img src=\"temp.png\" width=500px height=250px loc=\"center\">\n",
    "</p>"
   ]
  },
  {
   "attachments": {},
   "cell_type": "markdown",
   "metadata": {},
   "source": [
    "$$ f(x) = \\frac{\\ln(x)}{x^{2} - 2x + 2} $$\n",
    "$$\n",
    "\\int_{a}^{b} \\frac{\\ln(x)}{x^{2} - 2x + 2} dx\n",
    "$$"
   ]
  },
  {
   "cell_type": "code",
   "execution_count": 71,
   "metadata": {},
   "outputs": [],
   "source": [
    "import math\n",
    "import numpy as np\n",
    "def gaussNodes(m,tol=10e-9):\n",
    "\n",
    "    def legendre(t,m):\n",
    "        p0 = 1.0; p1 = t\n",
    "        for k in range(1,m):\n",
    "            p = ((2.0*k + 1.0)*t*p1 - k*p0)/(1.0 + k )\n",
    "            p0 = p1; p1 = p\n",
    "        dp = m*(p0 - t*p1)/(1.0 - t**2)\n",
    "        return p,dp\n",
    "    A = np.zeros(m)\n",
    "    x = np.zeros(m)\n",
    "    nRoots = int((m + 1)/2)\n",
    "    for i in range(nRoots):\n",
    "        t = math.cos(math.pi*(i + 0.75)/(m + 0.5))\n",
    "        for j in range(30):\n",
    "            p,dp = legendre(t,m)\n",
    "            dt = -p/dp; t = t + dt\n",
    "            if abs(dt) < tol:\n",
    "                x[i] = t; x[m-i-1] = -t\n",
    "                A[i] = 2.0/(1.0 - t**2)/(dp**2)\n",
    "                A[m-i-1] = A[i]\n",
    "                break\n",
    "    return x,A\n",
    "\n",
    "def gaussQuad(f,a,b,m):\n",
    "    c1 = (b + a)/2.0\n",
    "    c2 = (b - a)/2.0\n",
    "    x,A = gaussNodes(m)\n",
    "    sum = 0.0\n",
    "    for i in range(len(x)):\n",
    "        sum = sum + A[i]*f(c1 + c2*x[i])\n",
    "    return c2*sum\n"
   ]
  },
  {
   "cell_type": "code",
   "execution_count": 72,
   "metadata": {},
   "outputs": [
    {
     "name": "stdout",
     "output_type": "stream",
     "text": [
      "2 node : [0.6067250072484867]\n",
      "4 node : [0.5847680362120717]\n"
     ]
    }
   ],
   "source": [
    "from numpy import log, pi\n",
    "\n",
    "def f(x) : \n",
    "    return log(x) / (x**2 - 2 * x + 2)\n",
    "\n",
    "node_2 = gaussQuad(f, 1, pi, 2)\n",
    "node_4 = gaussQuad(f, 1, pi, 4)\n",
    "\n",
    "print(\"2 node : [{}]\".format(node_2))\n",
    "print(\"4 node : [{}]\".format(node_4))"
   ]
  },
  {
   "attachments": {},
   "cell_type": "markdown",
   "metadata": {},
   "source": [
    "### Problem 5"
   ]
  },
  {
   "cell_type": "code",
   "execution_count": 73,
   "metadata": {},
   "outputs": [
    {
     "name": "stdout",
     "output_type": "stream",
     "text": [
      "k : [6]\n",
      "sqrt(pi) :           [1.7724538509055159]\n",
      "Trapezoid :          [1.772453850943242] \n",
      "Error :              [-3.7726044510577594e-11]\n"
     ]
    }
   ],
   "source": [
    "from numpy import pi, sqrt, exp\n",
    "\n",
    "def f(x) : \n",
    "    return exp(-1 * x**2)\n",
    "\n",
    "k = 1\n",
    "value = sqrt(pi)\n",
    "pred = Recursive_Trapezoid_func(f, -10, 10, k=k)\n",
    "tol = 1.0e-10\n",
    "while abs(value - pred) >= tol : \n",
    "    k += 1\n",
    "    pred = Recursive_Trapezoid_func(f, -10, 10, k=k, I_old=pred)\n",
    "\n",
    "    if k >= 20 : \n",
    "        print(\"failed to converge\")\n",
    "        break\n",
    "\n",
    "print(\"k : [{}]\".format(k))\n",
    "print(\"sqrt(pi) : \".ljust(20), \"[{}]\".format(value).ljust(20))\n",
    "print(\"Trapezoid : \".ljust(20), \"[{}]\".format(pred).ljust(20))\n",
    "print(\"Error : \".ljust(20), \"[{}]\".format(value - pred).ljust(20))\n"
   ]
  },
  {
   "attachments": {},
   "cell_type": "markdown",
   "metadata": {},
   "source": [
    "### Problem 6"
   ]
  },
  {
   "cell_type": "code",
   "execution_count": 74,
   "metadata": {},
   "outputs": [
    {
     "name": "stdout",
     "output_type": "stream",
     "text": [
      "x_data :  [0.   0.16 0.32 0.48 0.64 0.8 ]\n",
      "Simpson : [1.611512666666667]\n"
     ]
    }
   ],
   "source": [
    "x_data = np.arange(0, 0.81, 0.16)\n",
    "y_data = np.array([0.2, 1.2969, 1.7434, 3.1860, 3.1819, 0.232])\n",
    "\n",
    "print(\"x_data : \", x_data)\n",
    "\n",
    "simp = Simpson(x_data=x_data, y_data=y_data)\n",
    "\n",
    "print(\"Simpson : [{}]\".format(simp))\n"
   ]
  },
  {
   "attachments": {},
   "cell_type": "markdown",
   "metadata": {},
   "source": [
    "### Problem 7"
   ]
  },
  {
   "cell_type": "code",
   "execution_count": 75,
   "metadata": {},
   "outputs": [],
   "source": [
    "import numpy as np\n",
    "\n",
    "def romberg(f,a,b,tol=1.0e-6):\n",
    "    def richardson(r,k):\n",
    "        for j in range(k-1,0,-1):\n",
    "            const = 4.0**(k-j)\n",
    "            r[j] = (const*r[j+1] - r[j])/(const - 1.0)\n",
    "        return r\n",
    "\n",
    "    r = np.zeros(21)\n",
    "    r[1] = Recursive_Trapezoid_func(f, a, b, 1)\n",
    "    r_old = r[1]\n",
    "    for k in range(2,21):\n",
    "        r[k] = Recursive_Trapezoid_func(f, a, b, k=k, I_old=r[k-1])\n",
    "        r = richardson(r,k)\n",
    "        if abs(r[1]-r_old) < tol*max(abs(r[1]),1.0):\n",
    "            return r[1],2**(k-1)\n",
    "        r_old = r[1]\n",
    "    print(\"Romberg quadrature did not converge\")\n"
   ]
  },
  {
   "cell_type": "code",
   "execution_count": 76,
   "metadata": {},
   "outputs": [
    {
     "name": "stdout",
     "output_type": "stream",
     "text": [
      "Required total work : [1.17002e+10] kJ\n"
     ]
    }
   ],
   "source": [
    "# using romberg integration\n",
    "\n",
    "G = 6.673e-11   # J * m / kg^2\n",
    "M = 5.972e+24   # kg\n",
    "R = 6371e+3     # km --> m\n",
    "m = 200         # kg\n",
    "\n",
    "def U(x) : \n",
    "    return G * M * m / x**2     # J / m\n",
    "\n",
    "H = [h * 1.0e+3 for h in [550, 1150, 340]]      # km --> m\n",
    "Num = [1600, 2800, 7500]\n",
    "Energy = 0\n",
    "\n",
    "for height, num in zip(H, Num) : \n",
    "    integ = romberg(U, R, R + height, tol=1.0e-9)[0]\n",
    "    Energy += integ * num\n",
    "\n",
    "print(\"Required total work :\", \"[{:.5e}] kJ\".format(Energy * 1.0e-3))"
   ]
  },
  {
   "cell_type": "code",
   "execution_count": null,
   "metadata": {},
   "outputs": [],
   "source": []
  }
 ],
 "metadata": {
  "kernelspec": {
   "display_name": "Python 3",
   "language": "python",
   "name": "python3"
  },
  "language_info": {
   "codemirror_mode": {
    "name": "ipython",
    "version": 3
   },
   "file_extension": ".py",
   "mimetype": "text/x-python",
   "name": "python",
   "nbconvert_exporter": "python",
   "pygments_lexer": "ipython3",
   "version": "3.11.3"
  },
  "orig_nbformat": 4
 },
 "nbformat": 4,
 "nbformat_minor": 2
}

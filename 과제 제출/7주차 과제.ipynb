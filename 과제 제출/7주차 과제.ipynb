{
 "cells": [
  {
   "attachments": {},
   "cell_type": "markdown",
   "metadata": {},
   "source": [
    "#### Problem 1"
   ]
  },
  {
   "attachments": {},
   "cell_type": "markdown",
   "metadata": {},
   "source": [
    "##### 1-(a)"
   ]
  },
  {
   "cell_type": "code",
   "execution_count": 11,
   "metadata": {},
   "outputs": [
    {
     "data": {
      "text/latex": [
       "$\\displaystyle 0.7 t^{3} - 3 t^{2} + 5 t$"
      ],
      "text/plain": [
       "0.7*t**3 - 3*t**2 + 5*t"
      ]
     },
     "metadata": {},
     "output_type": "display_data"
    },
    {
     "data": {
      "text/latex": [
       "$\\displaystyle 2.1 t^{2} - 6 t + 5$"
      ],
      "text/plain": [
       "2.1*t**2 - 6*t + 5"
      ]
     },
     "metadata": {},
     "output_type": "display_data"
    },
    {
     "data": {
      "text/latex": [
       "$\\displaystyle 4.2 t - 6$"
      ],
      "text/plain": [
       "4.2*t - 6"
      ]
     },
     "metadata": {},
     "output_type": "display_data"
    },
    {
     "name": "stdout",
     "output_type": "stream",
     "text": [
      "t = 2 --> \n",
      "velocity :  1.40000000000000\n",
      "acceleration :  2.40000000000000\n"
     ]
    }
   ],
   "source": [
    "import sympy\n",
    "from sympy import symbols, diff\n",
    "\n",
    "from IPython.display import display\n",
    "\n",
    "t = symbols(\"t\")\n",
    "\n",
    "x = 0.7 * t**3 - 3 * t**2 + 5 * t\n",
    "v = diff(x)\n",
    "a = diff(v)\n",
    "\n",
    "display(x, v, a)\n",
    "\n",
    "velocity_sympy = v.subs(t, 2.0)\n",
    "acceleration_sympy = a.subs(t, 2.0)\n",
    "\n",
    "print(\"t = 2 --> \")\n",
    "print(\"velocity : \", velocity_sympy)\n",
    "print(\"acceleration : \", acceleration_sympy)\n",
    "\n",
    "\n"
   ]
  },
  {
   "attachments": {},
   "cell_type": "markdown",
   "metadata": {},
   "source": [
    "##### 1-(b)"
   ]
  },
  {
   "attachments": {},
   "cell_type": "markdown",
   "metadata": {},
   "source": [
    "$$ f(x + h) = f(x) + hf'(x) + \\frac{h^{2}}{2!}f''(x) + \\dots $$\n",
    "$$ f(x - h) = f(x) - hf'(x) + \\frac{h^{2}}{2!}f''(x) + \\dots $$\n",
    "$$ f(x + 2h) = f(x) + 2hf'(x) + \\frac{(2h)^{2}}{2!}f''(x) + \\dots $$\n",
    "$$ f(x - 2h) = f(x) - 2hf'(x) + \\frac{(2h)^{2}}{2!}f''(x) + \\dots $$\n",
    "\n",
    "\n",
    "##### first forward difference approximation\n",
    "##### $$ f'(x) = \\frac{f(x + h) - f(x)}{h} + O(h) $$\n",
    "##### $$ f''(x) = \\frac{f(x + 2h) - 2f(x + h) + f(x)}{h^{2}} + O(h) $$\n",
    "\n",
    "##### first central difference approximation\n",
    "##### $$ f'(x) = \\frac{f(x + h) - f(x - h)}{2h} + O(h^{2}) $$\n",
    "##### $$ f''(x) = \\frac{f(x + h) - 2f(x) + f(x - h)}{h^{2}} + O(h^{2}) $$"
   ]
  },
  {
   "cell_type": "code",
   "execution_count": 12,
   "metadata": {},
   "outputs": [
    {
     "name": "stdout",
     "output_type": "stream",
     "text": [
      "First forward difference approximiation : \n",
      "velocity :  1.412070000000032\n",
      "acceleration :  2.442000000009159\n",
      "\n",
      "First central difference approximation : \n",
      "velocity :  1.4000700000000421\n",
      "acceleration :  2.3999999999979593\n"
     ]
    }
   ],
   "source": [
    "def f(t) : \n",
    "    return 0.7 * t**3 - 3 * t**2 + 5 * t\n",
    "\n",
    "t = 2.0\n",
    "h = 0.01\n",
    "\n",
    "FFD_v = (f(t + h) - f(t)) / h\n",
    "FFD_a = (f(t + 2 * h) - 2 * f(t + h) + f(t)) / h**2\n",
    "FCD_v = (f(t + h) - f(t - h)) / (2 * h)\n",
    "FCD_a = (f(t + h) - 2 * f(t) + f(t - h)) / h**2\n",
    "\n",
    "print(\"First forward difference approximiation : \")\n",
    "print(\"velocity : \", FFD_v)\n",
    "print(\"acceleration : \", FFD_a, end=\"\\n\\n\")\n",
    "\n",
    "\n",
    "print(\"First central difference approximation : \")\n",
    "print(\"velocity : \", FCD_v)\n",
    "print(\"acceleration : \", FCD_a)\n"
   ]
  },
  {
   "attachments": {},
   "cell_type": "markdown",
   "metadata": {},
   "source": [
    "##### 1-(c)"
   ]
  },
  {
   "cell_type": "code",
   "execution_count": 13,
   "metadata": {},
   "outputs": [
    {
     "name": "stdout",
     "output_type": "stream",
     "text": [
      "Error when t = 2 -->\n",
      "FFD_v : [0.8621] %   FFD_a : [1.7500] %\n",
      "FCD_v : [0.0050] %   FCD_a : [0.0000] %\n",
      "\n",
      "analytic_v : [1.40000]       analytic_a : [2.40000]\n",
      "FFD_v : [1.41207]                 FFD_a : [2.44200]\n",
      "FCD_v : [1.40007]                 FCD_a : [2.40000]\n"
     ]
    }
   ],
   "source": [
    "import numpy as np\n",
    "import matplotlib.pyplot as plt\n",
    "\n",
    "def v(t) : \n",
    "    return 2.1 * t**2 - 6 * t + 5\n",
    "\n",
    "def a(t) : \n",
    "    return 4.2 * t - 6\n",
    "\n",
    "t = 2.0\n",
    "h = 0.01\n",
    "analytic_v = v(t=t)\n",
    "analytic_a = a(t=t)\n",
    "FFD_v = (f(t + h) - f(t)) / h\n",
    "FFD_a = (f(t + 2 * h) - 2 * f(t + h) + f(t)) / h**2\n",
    "FCD_v = (f(t + h) - f(t - h)) / (2 * h)\n",
    "FCD_a = (f(t + h) - 2 * f(t) + f(t - h)) / h**2\n",
    "\n",
    "print(\"Error when t = 2 -->\")\n",
    "print(\n",
    "    \"FFD_v : [{:.4f}] % \".format(\n",
    "    abs((analytic_v - FFD_v) / (analytic_v)) * 100\n",
    "    ).ljust(20), \n",
    "    \"FFD_a : [{:.4f}] %\".format(\n",
    "    abs((analytic_a - FFD_a) / (analytic_a)) * 100\n",
    "    )\n",
    ")\n",
    "print(\n",
    "    \"FCD_v : [{:.4f}] % \".format(\n",
    "    abs((analytic_v - FCD_v) / (analytic_v)) * 100\n",
    "    ).ljust(20),\n",
    "    \"FCD_a : [{:.4f}] %\".format(\n",
    "    abs((analytic_a - FCD_a) / (analytic_a)) * 100\n",
    "    ), \n",
    "    end=\"\\n\\n\"\n",
    ")\n",
    "\n",
    "print(\n",
    "    \"analytic_v : [{:.5f}]\".format(analytic_v).ljust(25),\n",
    "    \"analytic_a : [{:.5f}]\".format(analytic_a).rjust(25)\n",
    ")\n",
    "print(\n",
    "    \"FFD_v : [{:.5f}]\".format(FFD_v).ljust(25),\n",
    "    \"FFD_a : [{:.5f}]\".format(FFD_a).rjust(25)\n",
    ")\n",
    "print(\n",
    "    \"FCD_v : [{:.5f}]\".format(FCD_v).ljust(25),\n",
    "    \"FCD_a : [{:.5f}]\".format(FCD_a).rjust(25)\n",
    ")\n"
   ]
  },
  {
   "attachments": {},
   "cell_type": "markdown",
   "metadata": {},
   "source": [
    "#### Problem 2"
   ]
  },
  {
   "attachments": {},
   "cell_type": "markdown",
   "metadata": {},
   "source": [
    "##### $$ f'(x) = \\frac{f(x + h) - f(x)}{h} + O(h)$$\n",
    "\n",
    "##### $$ g(h) = \\frac{f(x + h) - f(x)}{h} $$\n",
    "##### $$ G = g(h_{1}) + ch_{1} = g(h_{2}) + ch_{2} $$\n",
    "##### $$ G = \\frac{(h_{1}/h_{2})g(h_{2}) - g(h_{1})}{(h_{1}/h_{2}) - 1} $$"
   ]
  },
  {
   "cell_type": "code",
   "execution_count": 3,
   "metadata": {},
   "outputs": [
    {
     "name": "stdout",
     "output_type": "stream",
     "text": [
      "Result dT/dz at (z=0) --> \n",
      "By first forward difference approximation (h = 1.25, 3.75) : -1.2 -0.9333333333333333\n",
      "By Richardson Extrapolation :  -1.333333333333333\n",
      "\n",
      "Result heat flux q at (z=0) --> \n",
      "By first forward difference approximation (h = 1.25, 3.75) : 0.6 0.4666666666666667\n",
      "By Richardson Extrapolation :  0.6666666666666665\n"
     ]
    }
   ],
   "source": [
    "import numpy as np\n",
    "\n",
    "x_data = np.array([0.0, 1.25, 3.75])\n",
    "y_data = np.array([13.5, 12, 10])\n",
    "k = 0.5\n",
    "\n",
    "h1 = x_data[1] - x_data[0]\n",
    "h2 = x_data[2] - x_data[0]\n",
    "\n",
    "g_h1 = (y_data[1] - y_data[0]) / h1\n",
    "g_h2 = (y_data[2] - y_data[0]) / h2\n",
    "\n",
    "G = ((h1 / h2) * g_h2 - g_h1) / ((h1 / h2) - 1)\n",
    "\n",
    "print(\"Result dT/dz at (z=0) --> \")\n",
    "print(\n",
    "    \"By first forward difference approximation (h = 1.25, 3.75) :\",\n",
    "    g_h1, g_h2, sep=\" \"\n",
    ")\n",
    "print(\"By Richardson Extrapolation : \", G, end=\"\\n\\n\")\n",
    "\n",
    "print(\"Result heat flux q at (z=0) --> \")\n",
    "print(\n",
    "    \"By first forward difference approximation (h = 1.25, 3.75) :\",\n",
    "    g_h1 * -1 * k, g_h2 * -1 * k, sep=\" \"\n",
    ")\n",
    "print(\"By Richardson Extrapolation : \", G * -1 * k)"
   ]
  },
  {
   "attachments": {},
   "cell_type": "markdown",
   "metadata": {},
   "source": [
    "#### Problem 3"
   ]
  },
  {
   "attachments": {},
   "cell_type": "markdown",
   "metadata": {},
   "source": [
    "##### By Taylor series expansion, $f(x + h)$ and $f(x + 2h)$ is\n",
    "\n",
    "$$\n",
    "\\begin{align}\n",
    "f(x + h) = f(x) + hf'(x) + \\frac{h^{2}}{2!}f''(x) + O(h^{3})  \\\\\n",
    "f(x + 2h) = f(x) + 2hf'(x) + \\frac{(2h)^{2}}{2!}f''(x) + O(h^{3})  \\\\\n",
    "\\end{align}\n",
    "$$\n",
    "\n",
    "##### where $h = \\Delta x \\ $, $\\ x = x_{i}, \\ x + h = x_{i + 1}, \\ x + 2h = x_{i + 2}$ in problem's equation."
   ]
  },
  {
   "attachments": {},
   "cell_type": "markdown",
   "metadata": {},
   "source": [
    "##### Using equation (1), we can get\n",
    "\n",
    "##### $$ f'(x) = \\frac{f(x + h) - f(x)}{h} + O(h) $$\n",
    "\n",
    "##### Eqaution is equivalent with\n",
    "\n",
    "##### $$ f'_{low}(x_{i}) = \\frac{f(x_{i + 1}) - f(x_{i})}{\\Delta x} $$"
   ]
  },
  {
   "attachments": {},
   "cell_type": "markdown",
   "metadata": {},
   "source": [
    "##### We can subtract Eq1 to Eq2, to get $f''_{low}(x_i)$\n",
    "##### Note we have to multiply 2 with Eq.1 before subtracting.\n",
    "##### Eventually,\n",
    "\n",
    "##### $$ f(x + 2h) - 2f(x + h) = -f(x) + 0 + \\frac{4h^{2} - 2h^{2}}{2!}f''(x) + O(h^{3}) $$\n",
    "\n",
    "##### Eqaution is equivalent with\n",
    "##### $$ f''(x) = \\frac{f(x + 2h) - 2f(x + h) + f(x)}{h^{2}} + O(h) $$\n",
    "##### $$ f''_{low}(x_{i}) = \\frac{f(x_{i + 2}) - 2f(x_{i + 1}) + f(x_{i})}{\\Delta x^{2}} $$"
   ]
  },
  {
   "attachments": {},
   "cell_type": "markdown",
   "metadata": {},
   "source": [
    "##### Now we can apply $f''(x)$ to Eq.1\n",
    "##### Then Eq.1 become\n",
    "\n",
    "##### $$ f(x + h) = f(x) + hf'(x) + \\frac{f(x + 2h) - 2f(x + h) + f(x)}{2} + O(h^{3})  \\\\ $$\n",
    "##### $$ f'(x) = \\frac{(2f(x + h) - 2f(x)) - (f(x + 2h) - 2f(x + h) + f(x))}{2h} + O(h^{2}) $$\n",
    "##### $$ = \\frac{-f(x + 2h) + 4f(x + h) - 3f(x)}{2h} + O(h^{2}) $$\n",
    "\n",
    "##### Which is\n",
    "\n",
    "##### $$ f'_{high}(x_{i}) = \\frac{-f(x_{i + 2}) + 4f(x_{i + 1}) - 3f(x_{i})}{2\\Delta x} $$"
   ]
  },
  {
   "attachments": {},
   "cell_type": "markdown",
   "metadata": {},
   "source": [
    "#### Problem 4"
   ]
  },
  {
   "attachments": {},
   "cell_type": "markdown",
   "metadata": {},
   "source": [
    "##### 4-(a)"
   ]
  },
  {
   "cell_type": "code",
   "execution_count": 15,
   "metadata": {},
   "outputs": [],
   "source": [
    "import numpy as np\n",
    "from numpy import ndarray\n",
    "def Create_Laplace_OP(x_arr : ndarray) -> ndarray: \n",
    "    \n",
    "    if x_arr.ndim != 1 : \n",
    "        x_arr = x_arr.flatten()\n",
    "\n",
    "    L = np.zeros(shape=(len(x_arr), len(x_arr)), dtype=float)\n",
    "\n",
    "    for i in range(1, len(L) - 1) : \n",
    "        dx = (x_arr[i + 1] - x_arr[i - 1]) / 2\n",
    "        L[i, i - 1] = 1 / (dx**2)\n",
    "        L[i, i + 1] = 1 / (dx**2)\n",
    "        L[i, i] = -2 / (dx**2)\n",
    "\n",
    "    L[0,0] = -2 / (x_arr[1] - x_arr[0])**2\n",
    "    L[0, 1] = 1 / (x_arr[1] - x_arr[0])**2\n",
    "    L[len(L) - 1, len(L) - 1] = -2 / (\n",
    "        x_arr[len(L) - 1] - x_arr[len(L) - 2]\n",
    "    )**2\n",
    "\n",
    "    L[len(L) - 1, len(L) - 2] = 1 / (\n",
    "        x_arr[len(L) - 2] - x_arr[len(L) - 3]\n",
    "    )**2\n",
    "\n",
    "    return L"
   ]
  },
  {
   "cell_type": "code",
   "execution_count": 16,
   "metadata": {},
   "outputs": [
    {
     "name": "stdout",
     "output_type": "stream",
     "text": [
      "Shape of x_arrange and L :  (101,) (101, 101)\n",
      "\n",
      "L : \n",
      "[[-5000.  2500.     0. ...     0.     0.     0.]\n",
      " [ 2500. -5000.  2500. ...     0.     0.     0.]\n",
      " [    0.  2500. -5000. ...     0.     0.     0.]\n",
      " ...\n",
      " [    0.     0.     0. ... -5000.  2500.     0.]\n",
      " [    0.     0.     0. ...  2500. -5000.  2500.]\n",
      " [    0.     0.     0. ...     0.  2500. -5000.]]\n",
      "\n",
      "x_arrange : \n",
      "[0.   0.02 0.04 0.06 0.08 0.1  0.12 0.14 0.16 0.18 0.2  0.22 0.24 0.26\n",
      " 0.28 0.3  0.32 0.34 0.36 0.38 0.4  0.42 0.44 0.46 0.48 0.5  0.52 0.54\n",
      " 0.56 0.58 0.6  0.62 0.64 0.66 0.68 0.7  0.72 0.74 0.76 0.78 0.8  0.82\n",
      " 0.84 0.86 0.88 0.9  0.92 0.94 0.96 0.98 1.   1.02 1.04 1.06 1.08 1.1\n",
      " 1.12 1.14 1.16 1.18 1.2  1.22 1.24 1.26 1.28 1.3  1.32 1.34 1.36 1.38\n",
      " 1.4  1.42 1.44 1.46 1.48 1.5  1.52 1.54 1.56 1.58 1.6  1.62 1.64 1.66\n",
      " 1.68 1.7  1.72 1.74 1.76 1.78 1.8  1.82 1.84 1.86 1.88 1.9  1.92 1.94\n",
      " 1.96 1.98 2.  ]\n"
     ]
    }
   ],
   "source": [
    "import numpy as np\n",
    "\n",
    "x_arrange = np.arange(0, 2 + 0.02, 0.02)\n",
    "L = Create_Laplace_OP(x_arr=x_arrange)\n",
    "\n",
    "print(\n",
    "    \"Shape of x_arrange and L : \", \n",
    "    x_arrange.shape, L.shape, end=\"\\n\\n\"\n",
    ")\n",
    "print(\"L : \", L, sep=\"\\n\", end=\"\\n\\n\")\n",
    "print(\"x_arrange : \", x_arrange, sep=\"\\n\")"
   ]
  },
  {
   "attachments": {},
   "cell_type": "markdown",
   "metadata": {},
   "source": [
    "##### 4-(b)"
   ]
  },
  {
   "cell_type": "code",
   "execution_count": 17,
   "metadata": {},
   "outputs": [],
   "source": [
    "from numpy import ndarray\n",
    "def Solve_Laplace(x_arr : ndarray, bc : list) -> ndarray: \n",
    "    L = Create_Laplace_OP(x_arr=x_arr)\n",
    "\n",
    "    A = L.astype(dtype=float)\n",
    "    B = np.zeros(shape=(len(A)), dtype=float)\n",
    "    Y = B.astype(dtype=float)\n",
    "\n",
    "    Y[0], Y[len(Y) - 1] = bc[0], bc[1]\n",
    "\n",
    "    B -= A @ Y\n",
    "\n",
    "    Y[1:len(Y) - 1] = np.linalg.solve(\n",
    "        A[1:len(A) - 1, 1:len(A) - 1],\n",
    "        B[1:len(B) - 1]\n",
    "    )\n",
    "\n",
    "    return Y, A, B"
   ]
  },
  {
   "cell_type": "code",
   "execution_count": 18,
   "metadata": {},
   "outputs": [
    {
     "name": "stdout",
     "output_type": "stream",
     "text": [
      "A : \n",
      "[[-5000.  2500.     0. ...     0.     0.     0.]\n",
      " [ 2500. -5000.  2500. ...     0.     0.     0.]\n",
      " [    0.  2500. -5000. ...     0.     0.     0.]\n",
      " ...\n",
      " [    0.     0.     0. ... -5000.  2500.     0.]\n",
      " [    0.     0.     0. ...  2500. -5000.  2500.]\n",
      " [    0.     0.     0. ...     0.  2500. -5000.]]\n",
      "\n",
      "B : \n",
      "[     0.      0.      0.      0.      0.      0.      0.      0.      0.\n",
      "      0.      0.      0.      0.      0.      0.      0.      0.      0.\n",
      "      0.      0.      0.      0.      0.      0.      0.      0.      0.\n",
      "      0.      0.      0.      0.      0.      0.      0.      0.      0.\n",
      "      0.      0.      0.      0.      0.      0.      0.      0.      0.\n",
      "      0.      0.      0.      0.      0.      0.      0.      0.      0.\n",
      "      0.      0.      0.      0.      0.      0.      0.      0.      0.\n",
      "      0.      0.      0.      0.      0.      0.      0.      0.      0.\n",
      "      0.      0.      0.      0.      0.      0.      0.      0.      0.\n",
      "      0.      0.      0.      0.      0.      0.      0.      0.      0.\n",
      "      0.      0.      0.      0.      0.      0.      0.      0.      0.\n",
      "  12500. -25000.]\n",
      "\n",
      "Potential : \n",
      "[ 0.   -0.05 -0.1  -0.15 -0.2  -0.25 -0.3  -0.35 -0.4  -0.45 -0.5  -0.55\n",
      " -0.6  -0.65 -0.7  -0.75 -0.8  -0.85 -0.9  -0.95 -1.   -1.05 -1.1  -1.15\n",
      " -1.2  -1.25 -1.3  -1.35 -1.4  -1.45 -1.5  -1.55 -1.6  -1.65 -1.7  -1.75\n",
      " -1.8  -1.85 -1.9  -1.95 -2.   -2.05 -2.1  -2.15 -2.2  -2.25 -2.3  -2.35\n",
      " -2.4  -2.45 -2.5  -2.55 -2.6  -2.65 -2.7  -2.75 -2.8  -2.85 -2.9  -2.95\n",
      " -3.   -3.05 -3.1  -3.15 -3.2  -3.25 -3.3  -3.35 -3.4  -3.45 -3.5  -3.55\n",
      " -3.6  -3.65 -3.7  -3.75 -3.8  -3.85 -3.9  -3.95 -4.   -4.05 -4.1  -4.15\n",
      " -4.2  -4.25 -4.3  -4.35 -4.4  -4.45 -4.5  -4.55 -4.6  -4.65 -4.7  -4.75\n",
      " -4.8  -4.85 -4.9  -4.95 -5.  ]\n"
     ]
    }
   ],
   "source": [
    "Potential, A, B = Solve_Laplace(x_arr=x_arrange, bc=[0, -5])\n",
    "\n",
    "print(\"A : \", A, sep=\"\\n\", end=\"\\n\\n\")\n",
    "print(\"B : \", B, sep=\"\\n\", end=\"\\n\\n\")\n",
    "print(\"Potential : \", Potential, sep=\"\\n\")"
   ]
  },
  {
   "cell_type": "code",
   "execution_count": 19,
   "metadata": {},
   "outputs": [
    {
     "data": {
      "image/png": "[encoded data removed]",
      "text/plain": [
       "<Figure size 640x480 with 1 Axes>"
      ]
     },
     "metadata": {},
     "output_type": "display_data"
    }
   ],
   "source": [
    "import matplotlib.pyplot as plt\n",
    "\n",
    "plt.plot(x_arrange, Potential, label=\"Potential\")\n",
    "plt.plot(x_arrange, L @ Potential, label=\"L @ (Potential)\")\n",
    "plt.ylim(-6, 1)\n",
    "plt.legend()\n",
    "plt.show()"
   ]
  },
  {
   "cell_type": "code",
   "execution_count": 20,
   "metadata": {},
   "outputs": [
    {
     "name": "stdout",
     "output_type": "stream",
     "text": [
      "Does L @ (Potential) == 0? :  False\n",
      "Since f''(x0) and f''(xn) can not be calculated by equation, L @ (Potential) can be non-zero at boundaries.\n",
      "\n",
      "L @ (Potential) == 0\n",
      "[False  True  True  True  True  True  True  True  True  True  True  True\n",
      "  True  True  True  True  True  True  True  True  True  True  True  True\n",
      "  True  True  True  True  True  True  True  True  True  True  True  True\n",
      "  True  True  True  True  True  True  True  True  True  True  True  True\n",
      "  True  True  True  True  True  True  True  True  True  True  True  True\n",
      "  True  True  True  True  True  True  True  True  True  True  True  True\n",
      "  True  True  True  True  True  True  True  True  True  True  True  True\n",
      "  True  True  True  True  True  True  True  True  True  True  True  True\n",
      "  True  True  True  True False]\n"
     ]
    }
   ],
   "source": [
    "n = len(L)\n",
    "print(\n",
    "    \"Does L @ (Potential) == 0? : \", \n",
    "    np.allclose(L @ Potential, np.zeros(shape=(n)))\n",
    ")\n",
    "print(\"Since f''(x0) and f''(xn) can not be calculated by equation, \\\n",
    "L @ (Potential) can be non-zero at boundaries.\", end=\"\\n\\n\")\n",
    "\n",
    "print(\n",
    "    \"L @ (Potential) == 0\", \n",
    "    np.isclose(L @ Potential, np.zeros((n))), sep=\"\\n\"\n",
    ")"
   ]
  },
  {
   "cell_type": "code",
   "execution_count": null,
   "metadata": {},
   "outputs": [],
   "source": []
  }
 ],
 "metadata": {
  "kernelspec": {
   "display_name": "Python 3",
   "language": "python",
   "name": "python3"
  },
  "language_info": {
   "codemirror_mode": {
    "name": "ipython",
    "version": 3
   },
   "file_extension": ".py",
   "mimetype": "text/x-python",
   "name": "python",
   "nbconvert_exporter": "python",
   "pygments_lexer": "ipython3",
   "version": "3.11.3"
  },
  "orig_nbformat": 4
 },
 "nbformat": 4,
 "nbformat_minor": 2
}

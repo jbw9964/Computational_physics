{
 "cells": [
  {
   "attachments": {},
   "cell_type": "markdown",
   "metadata": {},
   "source": [
    "==========================================================================================================================="
   ]
  },
  {
   "cell_type": "markdown",
   "metadata": {},
   "source": [
    "#### 1. File\n",
    "a) Write a Python program to read a file 'Essay_intro.txt' and prints each line\n",
    "\n",
    "b) Convert each line into a list of strings and find the number of strings in each list"
   ]
  },
  {
   "cell_type": "code",
   "execution_count": 13,
   "metadata": {},
   "outputs": [
    {
     "name": "stdout",
     "output_type": "stream",
     "text": [
      "A good introduction paragraph is both engaging and informative. The main goals of your introduction are to:\n",
      "\n",
      "Catch your reader's attention and interest.\n",
      "Give context and background on your topic.\n",
      "Set up the focus and purpose of your essay.\n",
      "\n"
     ]
    }
   ],
   "source": [
    "# problem_1_a\n",
    "\n",
    "def read_txt(file_name : str) -> list: \n",
    "    \n",
    "    try : \n",
    "        open(file_name, mode='r')\n",
    "    \n",
    "    except : \n",
    "        open(file_name, mode='x')\n",
    "\n",
    "    with open(file_name, mode='r') as file : \n",
    "        string_list = file.readlines()\n",
    "        string_list = [string.replace(\"\\n\", \"\") for string in string_list]\n",
    "        file.close()\n",
    "    \n",
    "    # print()\n",
    "    if not len(string_list) : \n",
    "        # print(\"The file is empty.\")\n",
    "        pass\n",
    "    \n",
    "    else : \n",
    "        for line in string_list : \n",
    "            print(line)\n",
    "        print()\n",
    "    \n",
    "    return string_list\n",
    "\n",
    "\n",
    "string_list = read_txt(\"Essay_intro.txt\")\n"
   ]
  },
  {
   "cell_type": "code",
   "execution_count": 14,
   "metadata": {},
   "outputs": [
    {
     "name": "stdout",
     "output_type": "stream",
     "text": [
      "A good introduction paragraph is both engaging and informative. The main goals of your introduction are to:\n",
      "\n",
      "Catch your reader's attention and interest.\n",
      "Give context and background on your topic.\n",
      "Set up the focus and purpose of your essay.\n",
      "\n",
      "Number of strings in line 1 : 17\n",
      "\t-->['A', 'good', 'introduction', 'paragraph', 'is', 'both', 'engaging', 'and', 'informative.', 'The', 'main', 'goals', 'of', 'your', 'introduction', 'are', 'to:']\n",
      "\n",
      "Number of strings in line 2 : 0\n",
      "\t-->[]\n",
      "\n",
      "Number of strings in line 3 : 6\n",
      "\t-->['Catch', 'your', \"reader's\", 'attention', 'and', 'interest.']\n",
      "\n",
      "Number of strings in line 4 : 7\n",
      "\t-->['Give', 'context', 'and', 'background', 'on', 'your', 'topic.']\n",
      "\n",
      "Number of strings in line 5 : 9\n",
      "\t-->['Set', 'up', 'the', 'focus', 'and', 'purpose', 'of', 'your', 'essay.']\n",
      "\n",
      "\n"
     ]
    }
   ],
   "source": [
    "# problem_1_b\n",
    "\n",
    "def read_txt(file_name : str) -> list: \n",
    "    \n",
    "    try : \n",
    "        open(file_name, mode='r')\n",
    "    \n",
    "    except : \n",
    "        open(file_name, mode='x')\n",
    "\n",
    "    with open(file_name, mode='r') as file : \n",
    "        string_list = file.readlines()\n",
    "        string_list = [string.replace(\"\\n\", \"\") for string in string_list]\n",
    "        file.close()\n",
    "    \n",
    "    # print()\n",
    "    if not len(string_list) : \n",
    "        # print(\"The file is empty.\")\n",
    "        pass\n",
    "    \n",
    "    else : \n",
    "        for line in string_list : \n",
    "            print(line)\n",
    "        print()\n",
    "    \n",
    "    return string_list\n",
    "\n",
    "def count_string(string_list : list) -> list: \n",
    "    \n",
    "    num_of_string_list = []\n",
    "\n",
    "    for line in string_list : \n",
    "        word_list = line.split()\n",
    "        num_of_string_list.append(len(word_list))\n",
    "        print(f\"Number of strings in line {len(num_of_string_list)} : {len(word_list)}\")\n",
    "        print(f\"\\t-->{word_list}\")\n",
    "        print()\n",
    "    print()\n",
    "\n",
    "    return num_of_string_list\n",
    "\n",
    "\n",
    "string_list = read_txt(\"Essay_intro.txt\")\n",
    "num_of_string_list = count_string(string_list)\n"
   ]
  },
  {
   "attachments": {},
   "cell_type": "markdown",
   "metadata": {},
   "source": [
    "## 1.b : Convert each line into a list of strings and find the number of strings in each list\n",
    "\n",
    "i solved the problem 1.b by printing the number of strings in each line.\n",
    "\n",
    "however, \"the number of strings in each list\" can be interpreted as the number of each alphabet in lines.\n",
    "\n",
    "so there could be different solution to this problem.\n",
    "\n",
    "to print number of each alphabet in lines, you can use 'count' method in string obejct."
   ]
  },
  {
   "attachments": {},
   "cell_type": "markdown",
   "metadata": {},
   "source": [
    "==========================================================================================================================="
   ]
  },
  {
   "cell_type": "markdown",
   "metadata": {},
   "source": [
    "#### 2. Make a score dictionary using for loop."
   ]
  },
  {
   "cell_type": "code",
   "execution_count": 15,
   "metadata": {},
   "outputs": [
    {
     "name": "stdout",
     "output_type": "stream",
     "text": [
      "score_dict_1 : {'studnet_1': 1, 'studnet_2': 2, 'studnet_3': 3, 'studnet_4': 4, 'studnet_5': 5}\n",
      "\n",
      "score_list is empty. Please type the score of each student.\n",
      "\n",
      "Score of studnet 1 : 111\n",
      "Score of studnet 2 : 222\n",
      "Score of studnet 3 : 333\n",
      "Score of studnet 4 : 444\n",
      "Score of studnet 5 : 555\n",
      "\n",
      "score_dict_2 : {'student_1': 111, 'student_2': 222, 'student_3': 333, 'student_4': 444, 'student_5': 555}\n"
     ]
    }
   ],
   "source": [
    "# problem_2\n",
    "\n",
    "def create_score_dict(num_of_student : int, score_list = False) -> dict: \n",
    "    \n",
    "    try : \n",
    "        num_of_student = int(num_of_student)\n",
    "    \n",
    "    except : \n",
    "        print(f\"num_of_student is incompatible to int object : {type(num_of_student)}\")\n",
    "        return\n",
    "    \n",
    "    dict_list = []\n",
    "\n",
    "    if not score_list : \n",
    "        print(\"score_list is empty. Please type the score of each student.\")\n",
    "        print()\n",
    "\n",
    "        for index in range(num_of_student) : \n",
    "            print(f\"Score of studnet {index + 1} : \", end=\"\")\n",
    "            user_input = int(input())\n",
    "            print(user_input)\n",
    "            dict_list.append([\"student_{}\".format(index + 1), user_input])\n",
    "        print()\n",
    "    \n",
    "    else : \n",
    "        dict_list = [[f\"studnet_{index + 1}\", score] for index, score in enumerate(score_list)]\n",
    "\n",
    "    return dict(dict_list)\n",
    "\n",
    "\n",
    "score_dict_1 = create_score_dict(5, [1, 2, 3, 4, 5])\n",
    "print(\"score_dict_1 :\", score_dict_1)\n",
    "print()\n",
    "\n",
    "score_dict_2 = create_score_dict(5)\n",
    "print(\"score_dict_2 :\", score_dict_2)\n"
   ]
  },
  {
   "attachments": {},
   "cell_type": "markdown",
   "metadata": {},
   "source": [
    "==========================================================================================================================="
   ]
  },
  {
   "cell_type": "markdown",
   "metadata": {},
   "source": [
    "#### 3. Plot two graphs of damped and undamped oscillation.\n",
    "\n",
    "Damped oscillation : $y = cos(2 \\pi x) * e^{-x}$\n",
    "\n",
    "Undamped oscillation : $y = cos(2 \\pi x)$"
   ]
  },
  {
   "cell_type": "code",
   "execution_count": 18,
   "metadata": {},
   "outputs": [
    {
     "data": {
      "image/png": "[encoded data removed]",
      "text/plain": [
       "<Figure size 360x288 with 2 Axes>"
      ]
     },
     "metadata": {
      "needs_background": "light"
     },
     "output_type": "display_data"
    }
   ],
   "source": [
    "import numpy as np\n",
    "import matplotlib.pyplot as plt\n",
    "\n",
    "x = np.linspace(-2 * np.pi, 2 * np.pi, 100)\n",
    "y_1 = np.cos(2 * np.pi * x) * np.exp(-x)\n",
    "y_2 = np.cos(2 * np.pi * x)\n",
    "\n",
    "fig = plt.figure(figsize=(5,4))\n",
    "ax_1 = fig.add_axes([0,0,0.5,0.5])\n",
    "ax_2 = fig.add_axes([0.75,0,0.5,0.5])\n",
    "\n",
    "ax_1.plot(x, y_1, color='r', label=\"Damped oscillation\")\n",
    "ax_1.set_title(\"Damped oscillation\")\n",
    "ax_1.grid()\n",
    "\n",
    "ax_2.plot(x, y_2, color='b', label=\"Undamped oscillation\")\n",
    "ax_2.set_title(\"Undamped oscillation\")\n",
    "ax_2.grid()\n",
    "\n",
    "plt.show()"
   ]
  },
  {
   "attachments": {},
   "cell_type": "markdown",
   "metadata": {},
   "source": [
    "==========================================================================================================================="
   ]
  },
  {
   "cell_type": "markdown",
   "metadata": {},
   "source": [
    "####  4. Matrix Operation\n",
    "\n",
    "if \n",
    "$A=\\begin{bmatrix}\n",
    "3 & 0  \\\\\n",
    "0 & 3 \\\\\n",
    "\\end{bmatrix}$ and\n",
    "$B=\\begin{bmatrix}\n",
    "1 & 2  \\\\\n",
    "3 & 4 \\\\\n",
    "\\end{bmatrix}$  , Compute the dot product of $A$ and $B$. (Hint: np.eye)\n"
   ]
  },
  {
   "cell_type": "code",
   "execution_count": 17,
   "metadata": {},
   "outputs": [
    {
     "name": "stdout",
     "output_type": "stream",
     "text": [
      "[[ 3.  6.]\n",
      " [ 9. 12.]]\n",
      "\n",
      "[[ 3.  6.]\n",
      " [ 9. 12.]] None None\n"
     ]
    }
   ],
   "source": [
    "# problem_4\n",
    "\n",
    "import numpy as np\n",
    "\n",
    "def compute_dot(Array_a : np.ndarray, Array_b : np.ndarray) -> np.ndarray: \n",
    "    \n",
    "    if type(Array_a) != type(np.ndarray(0)) or type(Array_b) != type(np.ndarray(0)) : \n",
    "        print(f\"Array_a and Array_b should be ndarray. --> Array_a : {type(Array_a)} / Array_b : {type(Array_b)}\")\n",
    "        return None\n",
    "\n",
    "    temp_a = np.eye(2) * 3\n",
    "    temp_b = np.arange(1,5).reshape(2,2)\n",
    "    \n",
    "    if not (np.array_equal(Array_a, temp_a) and np.array_equal(Array_b, temp_b)) : \n",
    "        # print(\"Array_a should be same as : \")\n",
    "        # print(temp_a)\n",
    "        # print(\"Arra_a : \")\n",
    "        # print(Array_a)\n",
    "        # print()\n",
    "        # print(\"Array_b should be same as : \")\n",
    "        # print(temp_b)\n",
    "        # print(\"Arra_b : \")\n",
    "        # print(Array_b)\n",
    "        # print()\n",
    "\n",
    "        return None\n",
    "    \n",
    "    else : \n",
    "        print(Array_a @ Array_b)\n",
    "        print()\n",
    "\n",
    "        return Array_a @ Array_b\n",
    "\n",
    "arr_a = np.eye(2) * 3\n",
    "arr_b = np.arange(1,5).reshape(2,2)\n",
    "result_1 = compute_dot(arr_a, arr_b)\n",
    "result_2 = compute_dot(arr_a + 1, arr_b)\n",
    "result_3 = compute_dot(arr_a, arr_b + 1)\n",
    "\n",
    "print(result_1, result_2, result_3)\n"
   ]
  },
  {
   "attachments": {},
   "cell_type": "markdown",
   "metadata": {},
   "source": [
    "==========================================================================================================================="
   ]
  },
  {
   "cell_type": "markdown",
   "metadata": {},
   "source": [
    "#### 5. Pandas\n",
    "\n",
    "a) Make the dataframe.\n",
    "\n",
    "| A | B | C |  \n",
    "|--|--|--|\n",
    "|1|np.nan|2|\n",
    "|2|3|5|\n",
    "|np.nan|4|6|\n",
    "\n",
    "\n",
    "b) Fill the null values with the average of the column.\n",
    "\n",
    "\n",
    "\n",
    "\n"
   ]
  },
  {
   "cell_type": "code",
   "execution_count": 18,
   "metadata": {},
   "outputs": [
    {
     "data": {
      "text/html": [
       "<div>\n",
       "<style scoped>\n",
       "    .dataframe tbody tr th:only-of-type {\n",
       "        vertical-align: middle;\n",
       "    }\n",
       "\n",
       "    .dataframe tbody tr th {\n",
       "        vertical-align: top;\n",
       "    }\n",
       "\n",
       "    .dataframe thead th {\n",
       "        text-align: right;\n",
       "    }\n",
       "</style>\n",
       "<table border=\"1\" class=\"dataframe\">\n",
       "  <thead>\n",
       "    <tr style=\"text-align: right;\">\n",
       "      <th></th>\n",
       "      <th>A</th>\n",
       "      <th>B</th>\n",
       "      <th>c</th>\n",
       "    </tr>\n",
       "  </thead>\n",
       "  <tbody>\n",
       "    <tr>\n",
       "      <th>0</th>\n",
       "      <td>1.0</td>\n",
       "      <td>NaN</td>\n",
       "      <td>2</td>\n",
       "    </tr>\n",
       "    <tr>\n",
       "      <th>1</th>\n",
       "      <td>2.0</td>\n",
       "      <td>3.0</td>\n",
       "      <td>5</td>\n",
       "    </tr>\n",
       "    <tr>\n",
       "      <th>2</th>\n",
       "      <td>NaN</td>\n",
       "      <td>4.0</td>\n",
       "      <td>6</td>\n",
       "    </tr>\n",
       "  </tbody>\n",
       "</table>\n",
       "</div>"
      ],
      "text/plain": [
       "     A    B  c\n",
       "0  1.0  NaN  2\n",
       "1  2.0  3.0  5\n",
       "2  NaN  4.0  6"
      ]
     },
     "execution_count": 18,
     "metadata": {},
     "output_type": "execute_result"
    }
   ],
   "source": [
    "# problem_5_a\n",
    "\n",
    "import pandas as pd\n",
    "\n",
    "dataframe = pd.DataFrame(data=[[1, None, 2], [2, 3, 5], [None, 4, 6]], columns=['A', 'B', 'c'])\n",
    "dataframe"
   ]
  },
  {
   "cell_type": "code",
   "execution_count": 19,
   "metadata": {},
   "outputs": [
    {
     "data": {
      "text/html": [
       "<div>\n",
       "<style scoped>\n",
       "    .dataframe tbody tr th:only-of-type {\n",
       "        vertical-align: middle;\n",
       "    }\n",
       "\n",
       "    .dataframe tbody tr th {\n",
       "        vertical-align: top;\n",
       "    }\n",
       "\n",
       "    .dataframe thead th {\n",
       "        text-align: right;\n",
       "    }\n",
       "</style>\n",
       "<table border=\"1\" class=\"dataframe\">\n",
       "  <thead>\n",
       "    <tr style=\"text-align: right;\">\n",
       "      <th></th>\n",
       "      <th>A</th>\n",
       "      <th>B</th>\n",
       "      <th>c</th>\n",
       "    </tr>\n",
       "  </thead>\n",
       "  <tbody>\n",
       "    <tr>\n",
       "      <th>0</th>\n",
       "      <td>1.0</td>\n",
       "      <td>3.5</td>\n",
       "      <td>2</td>\n",
       "    </tr>\n",
       "    <tr>\n",
       "      <th>1</th>\n",
       "      <td>2.0</td>\n",
       "      <td>3.0</td>\n",
       "      <td>5</td>\n",
       "    </tr>\n",
       "    <tr>\n",
       "      <th>2</th>\n",
       "      <td>1.5</td>\n",
       "      <td>4.0</td>\n",
       "      <td>6</td>\n",
       "    </tr>\n",
       "  </tbody>\n",
       "</table>\n",
       "</div>"
      ],
      "text/plain": [
       "     A    B  c\n",
       "0  1.0  3.5  2\n",
       "1  2.0  3.0  5\n",
       "2  1.5  4.0  6"
      ]
     },
     "execution_count": 19,
     "metadata": {},
     "output_type": "execute_result"
    }
   ],
   "source": [
    "# problem_5_b\n",
    "\n",
    "dataframe = pd.DataFrame(data=[[1, None, 2], [2, 3, 5], [None, 4, 6]], columns=['A', 'B', 'c'])\n",
    "\n",
    "if True in dataframe.isna().values : \n",
    "    dataframe = dataframe.fillna(dataframe.mean())\n",
    "\n",
    "dataframe"
   ]
  },
  {
   "cell_type": "code",
   "execution_count": null,
   "metadata": {},
   "outputs": [],
   "source": []
  },
  {
   "attachments": {},
   "cell_type": "markdown",
   "metadata": {},
   "source": [
    "==========================================================================================================================="
   ]
  }
 ],
 "metadata": {
  "kernelspec": {
   "display_name": "Python 3",
   "language": "python",
   "name": "python3"
  },
  "language_info": {
   "codemirror_mode": {
    "name": "ipython",
    "version": 3
   },
   "file_extension": ".py",
   "mimetype": "text/x-python",
   "name": "python",
   "nbconvert_exporter": "python",
   "pygments_lexer": "ipython3",
   "version": "3.10.0"
  },
  "orig_nbformat": 4
 },
 "nbformat": 4,
 "nbformat_minor": 2
}

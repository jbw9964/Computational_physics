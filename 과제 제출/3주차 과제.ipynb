{
 "cells": [
  {
   "cell_type": "markdown",
   "id": "3f9190b4",
   "metadata": {},
   "source": [
    "\n",
    "## 1. Write a program that solves AX = B with Doolittle’s decomposition method.\n",
    "\n",
    "$$\n",
    "{\\bf A} = \n",
    "\\begin{pmatrix} \n",
    "3 & -1 & 4 \\\\\n",
    "-2 & 0 & 5 \\\\\n",
    "7 & 2& -2\n",
    "\\end{pmatrix}\n",
    "$$\n",
    "\n",
    "$$\n",
    "{\\bf B} = \n",
    "\\begin{pmatrix} \n",
    "6 & -4 \\\\\n",
    "3 & 2 \\\\\n",
    "7 & -5\n",
    "\\end{pmatrix}\n",
    "$$\n",
    "\n",
    "\n",
    "### a) Find the coefficient matrix [L/U] of Doolittle's decomposition method. <br>\n",
    "### b) Solve the equations  𝐀𝐱=𝐛."
   ]
  },
  {
   "cell_type": "code",
   "execution_count": 1,
   "id": "83b2025a",
   "metadata": {},
   "outputs": [],
   "source": [
    "import numpy as np\n",
    "from numpy import ndarray\n",
    "def Doolittle_decomp(A : ndarray) : \n",
    "    n = len(A)\n",
    "\n",
    "    U = A.astype(dtype=float)\n",
    "    L = np.eye(N=n, dtype=float)\n",
    "\n",
    "    for i in range(n) : \n",
    "        for j in range(i + 1, n) : \n",
    "            portion = U[j,i] / U[i,i]\n",
    "            U[j,:] -= portion * U[i,:]\n",
    "            L[j,i] = portion\n",
    "\n",
    "    return L, U\n",
    "\n",
    "def foward_substitution(A : ndarray, B : ndarray) : \n",
    "    X = np.zeros(B.shape, dtype=float)\n",
    "    for i in range(len(A)) : \n",
    "        X[i] = (B[i] - np.dot(A[i,:i], X[:i])) / A[i,i]\n",
    "    return X\n",
    "\n",
    "def backward_substitution(A : ndarray, B : ndarray) : \n",
    "    X = np.zeros(B.shape, dtype=float)\n",
    "    for i in range(len(A) - 1, -1, -1) : \n",
    "        X[i] = (B[i] - np.dot(A[i,i+1:], X[i+1:])) / A[i,i]\n",
    "    return X\n",
    "\n",
    "def Doolittle_solve(A : ndarray, B : ndarray) : \n",
    "    \n",
    "    L, U = Doolittle_decomp(A=A)\n",
    "    Y = foward_substitution(A=L, B=B)\n",
    "    X = backward_substitution(A=U, B=Y)\n",
    "    \n",
    "    return X\n"
   ]
  },
  {
   "cell_type": "code",
   "execution_count": 2,
   "id": "cc926d91",
   "metadata": {},
   "outputs": [],
   "source": [
    "A = np.array([\n",
    "    [3, -1, 4],\n",
    "    [-2, 0, 5],\n",
    "    [7, 2, -2]\n",
    "], dtype=float)\n",
    "\n",
    "B = np.array([\n",
    "    [6, -4],\n",
    "    [3, 2],\n",
    "    [7, -5]\n",
    "], dtype=float)"
   ]
  },
  {
   "cell_type": "code",
   "execution_count": 3,
   "id": "a57f5469",
   "metadata": {},
   "outputs": [
    {
     "name": "stdout",
     "output_type": "stream",
     "text": [
      "x1 :  [1. 1. 1.]\n",
      "x2 :  [-1.00000000e+00  1.00000000e+00  2.30695693e-17]\n"
     ]
    }
   ],
   "source": [
    "X = Doolittle_solve(A, B)\n",
    "x1 = X[:,0]\n",
    "x2 = X[:,1]\n",
    "\n",
    "print(\"x1 : \", x1)\n",
    "print(\"x2 : \", x2)"
   ]
  },
  {
   "cell_type": "markdown",
   "id": "174aa19e",
   "metadata": {},
   "source": [
    "## 2. Solve the equations Ax = b by Choleski’s decomposition\n",
    "$$\n",
    "{\\bf A} = \n",
    "\\begin{pmatrix} \n",
    "1.44 & -0.36 & 5.52 &0.00\\\\\n",
    "-0.36 &10.33 & -7.78&0.00 \\\\\n",
    "5.52 & -7.78& 28.40&9.00 \\\\\n",
    "0.00&0.00&9.00&61.00\n",
    "\\end{pmatrix}\n",
    "$$\n",
    "\n",
    "$$\n",
    "{\\bf B} = \n",
    "\\begin{pmatrix} \n",
    "0.04  \\\\\n",
    "-2.15 \\\\\n",
    "0 \\\\\n",
    "0.88\n",
    "\\end{pmatrix}\n",
    "$$"
   ]
  },
  {
   "cell_type": "code",
   "execution_count": 4,
   "id": "b56690cd",
   "metadata": {},
   "outputs": [],
   "source": [
    "import numpy as np\n",
    "from numpy import ndarray\n",
    "def Choleski_decomp(A : ndarray) : \n",
    "    if not np.array_equal(A, A.T) : \n",
    "        print(\"Given matrix A cannot be decomposite by Choleski method.\")\n",
    "        return\n",
    "    \n",
    "    L = np.zeros(A.shape, dtype=float)\n",
    "    n = len(A)\n",
    "    \n",
    "    for i in range(n) : \n",
    "        for j in range(0, i + 1) : \n",
    "            \n",
    "            try : \n",
    "                if i == j : \n",
    "                    L[j,j] = np.sqrt(A[j,j] - np.dot(L[j,:j], L[j,:j]))\n",
    "                else : \n",
    "                    L[i,j] = (A[i,j] - np.dot(L[i,:j], L[j,:j])) / L[j,j]\n",
    "            except : \n",
    "                print(\"Given matrix A is not positive definite\")\n",
    "                return\n",
    "    \n",
    "    return L, np.copy(L.T)\n",
    "\n",
    "def foward_substitution(A : ndarray, B : ndarray) : \n",
    "    X = np.zeros(B.shape, dtype=float)\n",
    "    for i in range(len(A)) : \n",
    "        X[i] = (B[i] - np.dot(A[i,:i], X[:i])) / A[i,i]\n",
    "    return X\n",
    "\n",
    "def backward_substitution(A : ndarray, B : ndarray) : \n",
    "    X = np.zeros(B.shape, dtype=float)\n",
    "    for i in range(len(A) - 1, -1, -1) : \n",
    "        X[i] = (B[i] - np.dot(A[i,i+1:], X[i+1:])) / A[i,i]\n",
    "    return X\n",
    "\n",
    "def Choleski_solve(A : ndarray, B : ndarray) : \n",
    "    L, U = Choleski_decomp(A=A)\n",
    "\n",
    "    Y = foward_substitution(A=L, B=B)\n",
    "    X = backward_substitution(A=U, B=Y)\n",
    "\n",
    "    return X"
   ]
  },
  {
   "cell_type": "code",
   "execution_count": 5,
   "id": "52055114",
   "metadata": {},
   "outputs": [
    {
     "name": "stdout",
     "output_type": "stream",
     "text": [
      "(4, 4) (4, 1)\n"
     ]
    }
   ],
   "source": [
    "A = np.array([\n",
    "    [1.44, -0.36, 5.52, 0],\n",
    "    [-0.36, 10.33, -7.78, 0],\n",
    "    [5.52, -7.78, 28.4, 9],\n",
    "    [0, 0, 9, 61]\n",
    "], dtype=float)\n",
    "\n",
    "B = np.array([\n",
    "    [0.04, -2.15, 0, 0.88]\n",
    "], dtype=float).transpose()\n",
    "\n",
    "print(A.shape, B.shape)"
   ]
  },
  {
   "cell_type": "code",
   "execution_count": 6,
   "id": "c0e882ad",
   "metadata": {},
   "outputs": [
    {
     "name": "stdout",
     "output_type": "stream",
     "text": [
      "[ 3.09212567 -0.73871706 -0.8475723   0.13947788]\n"
     ]
    }
   ],
   "source": [
    "X = Choleski_solve(A, B).transpose().flatten()\n",
    "print(X)"
   ]
  },
  {
   "cell_type": "markdown",
   "id": "5dd78ace",
   "metadata": {},
   "source": [
    "## 3. Find L and U \n",
    "### so that\n",
    "$$\n",
    "{\\bf A} = {\\bf LU}=\n",
    "\\begin{pmatrix} \n",
    "4 & -1 & 0\\\\\n",
    "-1 & 4 & -1 \\\\\n",
    "0 & -1& 4 \\\\\n",
    "\\end{pmatrix}\n",
    "$$\n",
    "### using (a) Doolittle’s decomposition; (b) Choleski’s decomposition"
   ]
  },
  {
   "cell_type": "code",
   "execution_count": 7,
   "id": "ea1768e5",
   "metadata": {},
   "outputs": [],
   "source": [
    "A = np.array([\n",
    "    [4, -1, 0],\n",
    "    [-1, 4, -1],\n",
    "    [0, -1, 4]\n",
    "])"
   ]
  },
  {
   "attachments": {},
   "cell_type": "markdown",
   "id": "b144e564",
   "metadata": {},
   "source": [
    "## (a) Doolittle's decomposition"
   ]
  },
  {
   "cell_type": "code",
   "execution_count": 8,
   "id": "15f6b276",
   "metadata": {},
   "outputs": [
    {
     "name": "stdout",
     "output_type": "stream",
     "text": [
      "L : \n",
      "[[ 1.          0.          0.        ]\n",
      " [-0.25        1.          0.        ]\n",
      " [ 0.         -0.26666667  1.        ]]\n",
      "\n",
      "U : \n",
      "[[ 4.         -1.          0.        ]\n",
      " [ 0.          3.75       -1.        ]\n",
      " [ 0.          0.          3.73333333]]\n",
      "\n"
     ]
    }
   ],
   "source": [
    "L, U = Doolittle_decomp(A)\n",
    "print(\"L : \", L, sep=\"\\n\", end=\"\\n\\n\")\n",
    "print(\"U : \", U, sep=\"\\n\", end=\"\\n\\n\")"
   ]
  },
  {
   "cell_type": "code",
   "execution_count": 9,
   "id": "ab5f1c88",
   "metadata": {},
   "outputs": [
    {
     "name": "stdout",
     "output_type": "stream",
     "text": [
      "A after LUdecomp (Doolittle) = \n",
      "[[ 4.         -1.          0.        ]\n",
      " [-0.25        3.75       -1.        ]\n",
      " [ 0.         -0.26666667  3.73333333]]\n"
     ]
    }
   ],
   "source": [
    "A_modified = L + U - np.eye(len(A))\n",
    "print(\"A after LUdecomp (Doolittle) = \", A_modified, sep=\"\\n\")"
   ]
  },
  {
   "cell_type": "code",
   "execution_count": 10,
   "id": "46bb0fd6",
   "metadata": {},
   "outputs": [
    {
     "name": "stdout",
     "output_type": "stream",
     "text": [
      "A = L @ U\n",
      "\n",
      "A : \n",
      "[[ 4 -1  0]\n",
      " [-1  4 -1]\n",
      " [ 0 -1  4]]\n",
      "\n",
      "L @ U : \n",
      "[[ 4. -1.  0.]\n",
      " [-1.  4. -1.]\n",
      " [ 0. -1.  4.]]\n",
      "\n"
     ]
    }
   ],
   "source": [
    "print(\"A = L @ U\", end=\"\\n\\n\")\n",
    "print(\"A : \", A, sep=\"\\n\", end=\"\\n\\n\")\n",
    "print(\"L @ U : \", L @ U, sep=\"\\n\", end=\"\\n\\n\")"
   ]
  },
  {
   "attachments": {},
   "cell_type": "markdown",
   "id": "3d1acc10",
   "metadata": {},
   "source": [
    "## (b) Choleski’s decomposition"
   ]
  },
  {
   "cell_type": "code",
   "execution_count": null,
   "id": "59cfdb3d",
   "metadata": {},
   "outputs": [],
   "source": [
    "def choleski(a):\n",
    "    n = len(a)\n",
    "    for k in range(n):\n",
    "        try:\n",
    "            a[k,k] = np.sqrt(a[k,k] \\\n",
    "            - np.dot(a[k,0:k],a[k,0:k]))\n",
    "        except :\n",
    "            print(\"’Matrix is not positive definite’\")\n",
    "        for i in range(k+1,n):\n",
    "            a[i,k] = (a[i,k] - np.dot(a[i,0:k],a[k,0:k]))/a[k,k]\n",
    "    for k in range(1,n): \n",
    "        a[0:k,k] = 0.0\n",
    "    return a\n",
    "\n",
    "def choleskiSol(L,b):\n",
    "    n = len(b)\n",
    "    # Solution of [L]{y} = {b}\n",
    "    for k in range(n):\n",
    "        b[k] = (b[k] - np.dot(L[k,0:k],b[0:k]))/L[k,k]\n",
    "    # Solution of [L_transpose]{x} = {y}\n",
    "    for k in range(n-1,-1,-1):\n",
    "        b[k] = (b[k] - np.dot(L[k+1:n,k],b[k+1:n]))/L[k,k]\n",
    "    return b"
   ]
  },
  {
   "cell_type": "code",
   "execution_count": 11,
   "id": "a6d8fe31",
   "metadata": {},
   "outputs": [
    {
     "name": "stdout",
     "output_type": "stream",
     "text": [
      "L : \n",
      "[[ 2.          0.          0.        ]\n",
      " [-0.5         1.93649167  0.        ]\n",
      " [ 0.         -0.51639778  1.93218357]]\n",
      "\n",
      "L_T : \n",
      "[[ 2.         -0.5         0.        ]\n",
      " [ 0.          1.93649167 -0.51639778]\n",
      " [ 0.          0.          1.93218357]]\n",
      "\n"
     ]
    }
   ],
   "source": [
    "L, L_T = Choleski_decomp(A)\n",
    "print(\"L : \", L, sep=\"\\n\", end=\"\\n\\n\")\n",
    "print(\"L_T : \", L_T, sep=\"\\n\", end=\"\\n\\n\")\n"
   ]
  },
  {
   "cell_type": "code",
   "execution_count": 12,
   "id": "3b5203fb",
   "metadata": {},
   "outputs": [
    {
     "name": "stdout",
     "output_type": "stream",
     "text": [
      "A after LUdecomp (Doolittle) = \n",
      "[[ 2.          0.          0.        ]\n",
      " [-0.5         1.93649167  0.        ]\n",
      " [ 0.         -0.51639778  1.93218357]]\n"
     ]
    }
   ],
   "source": [
    "A_modified = L\n",
    "print(\"A after LUdecomp (Doolittle) = \", A_modified, sep=\"\\n\")"
   ]
  },
  {
   "cell_type": "code",
   "execution_count": 13,
   "id": "83bed743",
   "metadata": {},
   "outputs": [
    {
     "name": "stdout",
     "output_type": "stream",
     "text": [
      "A = L @ L_T\n",
      "\n",
      "A : \n",
      "[[ 4 -1  0]\n",
      " [-1  4 -1]\n",
      " [ 0 -1  4]]\n",
      "\n",
      "L @ L_T : \n",
      "[[ 4. -1.  0.]\n",
      " [-1.  4. -1.]\n",
      " [ 0. -1.  4.]]\n",
      "\n"
     ]
    }
   ],
   "source": [
    "print(\"A = L @ L_T\", end=\"\\n\\n\")\n",
    "print(\"A : \", A, sep=\"\\n\", end=\"\\n\\n\")\n",
    "print(\"L @ L_T : \", L @ L_T, sep=\"\\n\", end=\"\\n\\n\")"
   ]
  },
  {
   "cell_type": "markdown",
   "id": "9a75935c",
   "metadata": {},
   "source": [
    "## 4. Determine the fourth-degree polynomial y(x) that passes through the points (0, −1), (1, 1), (3, 3), (5, 2), and (6, −2). "
   ]
  },
  {
   "attachments": {},
   "cell_type": "markdown",
   "id": "b66ba8ee",
   "metadata": {},
   "source": [
    "$y = ax^{4} + bx^{3} + cx^{2} + dx + e$"
   ]
  },
  {
   "attachments": {},
   "cell_type": "markdown",
   "id": "53018565",
   "metadata": {},
   "source": [
    "$$\n",
    "\\begin{pmatrix}\n",
    "6^4 & 6^3 & 6^2 & 6 & 1\\\\\n",
    "5^4 & 5^3 & 5^2 & 5 & 1\\\\\n",
    "3^4 & 3^3 & 3^2 & 3 & 1\\\\\n",
    "1 & 1 & 1 & 1 & 1\\\\\n",
    "0 & 0 & 0 & 0 & 1\\\\\n",
    "\\end{pmatrix}\n",
    "\\begin{pmatrix}\n",
    "a \\\\\n",
    "b \\\\\n",
    "c \\\\\n",
    "d \\\\\n",
    "e \\\\\n",
    "\\end{pmatrix}\n",
    "=\n",
    "\\begin{pmatrix}\n",
    "-2 \\\\\n",
    "2 \\\\\n",
    "3 \\\\\n",
    "1 \\\\\n",
    "-1 \\\\\n",
    "\\end{pmatrix}\n",
    "$$"
   ]
  },
  {
   "cell_type": "code",
   "execution_count": 14,
   "id": "a7b02587",
   "metadata": {},
   "outputs": [],
   "source": [
    "A = np.array([\n",
    "    [6**i for i in range(4,-1,-1)],\n",
    "    [5**i for i in range(4,-1,-1)],\n",
    "    [3**i for i in range(4,-1,-1)],\n",
    "    [1,1,1,1,1],\n",
    "    [0,0,0,0,1]\n",
    "], dtype=float)\n",
    "\n",
    "B = np.array([\n",
    "    [-2, 2, 3, 1, -1]\n",
    "], dtype=float).transpose()"
   ]
  },
  {
   "cell_type": "code",
   "execution_count": 15,
   "id": "0a343491",
   "metadata": {},
   "outputs": [
    {
     "name": "stdout",
     "output_type": "stream",
     "text": [
      "[-0.025] [0.21666667] [-0.875] [2.68333333] [-1.]\n",
      "y = -0.024999999999999918x^4 + 0.21666666666666587x^3 + -0.8749999999999978x^2 + 2.683333333333332x + -1.0\n"
     ]
    }
   ],
   "source": [
    "solution = Doolittle_solve(A, B)\n",
    "a, b, c, d, e = [value for value in solution] \n",
    "print(a, b, c, d, e)\n",
    "print(f\"y = {a[0]}x^4 + {b[0]}x^3 + {c[0]}x^2 + {d[0]}x + {e[0]}\")"
   ]
  },
  {
   "cell_type": "code",
   "execution_count": 16,
   "id": "f682435b",
   "metadata": {},
   "outputs": [
    {
     "data": {
      "image/png": "[encoded data removed]",
      "text/plain": [
       "<Figure size 216x288 with 5 Axes>"
      ]
     },
     "metadata": {
      "needs_background": "light"
     },
     "output_type": "display_data"
    }
   ],
   "source": [
    "import matplotlib.pyplot as plt\n",
    "\n",
    "x = np.linspace(-1, 7, 1000)\n",
    "y = a*(x**4) + b*(x**3) + c*(x**2) + d*x + e\n",
    "\n",
    "zoom = 500\n",
    "point_list = [\n",
    "    [0,-1],\n",
    "    [1,1],\n",
    "    [3,3],\n",
    "    [5,2],\n",
    "    [6,-2]\n",
    "]\n",
    "\n",
    "fig = plt.figure(figsize=(3,4))\n",
    "ax1 = fig.add_axes([0,0,1,1])\n",
    "ax2 = fig.add_axes([1.5,0,1,1])\n",
    "ax3 = fig.add_axes([1.5 * 2,0,1,1])\n",
    "ax4 = fig.add_axes([1.5 * 3,0,1,1])\n",
    "ax5 = fig.add_axes([1.5 * 4,0,1,1])\n",
    "\n",
    "ax_list = [ax1, ax2, ax3, ax4, ax5]\n",
    "\n",
    "for axes, point in zip(ax_list, point_list) : \n",
    "    axes.plot(x, y, label=\"function\")\n",
    "    axes.plot(point[0], point[1],'o', label=\"point ({}, {})\".format(point[0], point[1]))\n",
    "    axes.set_xlim([point[0] - 0.1 / zoom, point[0] + 0.1 / zoom])\n",
    "    axes.set_ylim([point[1] - 0.1 / zoom, point[1] + 0.1 / zoom])\n",
    "    axes.legend()\n",
    "    axes.set_xlabel(\"X\")\n",
    "    axes.set_ylabel(\"Y\")\n"
   ]
  },
  {
   "cell_type": "code",
   "execution_count": null,
   "id": "eeeb2dcb",
   "metadata": {},
   "outputs": [],
   "source": []
  }
 ],
 "metadata": {
  "kernelspec": {
   "display_name": "Python 3 (ipykernel)",
   "language": "python",
   "name": "python3"
  },
  "language_info": {
   "codemirror_mode": {
    "name": "ipython",
    "version": 3
   },
   "file_extension": ".py",
   "mimetype": "text/x-python",
   "name": "python",
   "nbconvert_exporter": "python",
   "pygments_lexer": "ipython3",
   "version": "3.10.0"
  }
 },
 "nbformat": 4,
 "nbformat_minor": 5
}

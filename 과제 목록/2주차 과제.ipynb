{
  "nbformat": 4,
  "nbformat_minor": 0,
  "metadata": {
    "colab": {
      "private_outputs": true,
      "provenance": []
    },
    "kernelspec": {
      "name": "python3",
      "display_name": "Python 3"
    },
    "language_info": {
      "name": "python"
    }
  },
  "cells": [
    {
      "cell_type": "markdown",
      "source": [
        "### 1. File\n",
        "### a) Write a Python program to read a file 'Essay_intro.txt' and prints each line\n",
        "\n",
        "### b) Convert each line into a list of strings and find the number of strings in each list"
      ],
      "metadata": {
        "id": "fkqTiLZWcFJ6"
      }
    },
    {
      "cell_type": "markdown",
      "source": [
        "### 2. Make a score dictionary using for loop."
      ],
      "metadata": {
        "id": "bdrKqBmqcPOw"
      }
    },
    {
      "cell_type": "code",
      "source": [
        "students_name = [\"James\",\"David\",\"Jone\",\"Ann\",'Jay']\n",
        "student_score = ['70','30','58','92','65']"
      ],
      "metadata": {
        "id": "oCa_brIucCH-"
      },
      "execution_count": null,
      "outputs": []
    },
    {
      "cell_type": "markdown",
      "source": [
        "### 3. Plot two graphs of damped and undamped oscillation.\n",
        "\n",
        "#### Damped oscillation : $y = cos(2 \\pi x) * e^{-x}$\n",
        "#### Undamped oscillation : $y = cos(2 \\pi x)$"
      ],
      "metadata": {
        "id": "KDGxjppYe6Ie"
      }
    },
    {
      "cell_type": "code",
      "source": [],
      "metadata": {
        "id": "0_Eo7KChLHFH"
      },
      "execution_count": null,
      "outputs": []
    },
    {
      "cell_type": "markdown",
      "source": [
        "### 4. Matrix Operation\n",
        "if \n",
        "$A=\\begin{bmatrix}\n",
        "3 & 0  \\\\\n",
        "0 & 3 \\\\\n",
        "\\end{bmatrix}$ and\n",
        "$B=\\begin{bmatrix}\n",
        "1 & 2  \\\\\n",
        "3 & 4 \\\\\n",
        "\\end{bmatrix}$  , Compute the dot product of $A$ and $B$. (Hint: np.eye)\n"
      ],
      "metadata": {
        "id": "BGIZtRxEfB5m"
      }
    },
    {
      "cell_type": "code",
      "source": [],
      "metadata": {
        "id": "xi9KlKL4LGo6"
      },
      "execution_count": null,
      "outputs": []
    },
    {
      "cell_type": "markdown",
      "source": [
        "### 5. Pandas\n",
        "a) Make the dataframe.\n",
        "\n",
        "| A | B | C |  \n",
        "|--|--|--|\n",
        "|1|np.nan|2|\n",
        "|2|3|5|\n",
        "|np.nan|4|6|\n",
        "\n",
        "\n",
        "b) Fill the null values with the average of the column.\n",
        "\n",
        "\n",
        "\n",
        "\n"
      ],
      "metadata": {
        "id": "CLrCiiyAizfh"
      }
    },
    {
      "cell_type": "code",
      "source": [],
      "metadata": {
        "id": "n4cYh3DpLJ5G"
      },
      "execution_count": null,
      "outputs": []
    }
  ]
}
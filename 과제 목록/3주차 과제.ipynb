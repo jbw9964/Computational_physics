{
 "cells": [
  {
   "cell_type": "markdown",
   "id": "3f9190b4",
   "metadata": {},
   "source": [
    "\n",
    "## 1. Write a program that solves AX = B with Doolittle’s decomposition method.\n",
    "\n",
    "$$\n",
    "{\\bf A} = \n",
    "\\begin{pmatrix} \n",
    "3 & -1 & 4 \\\\\n",
    "-2 & 0 & 5 \\\\\n",
    "7 & 2& -2\n",
    "\\end{pmatrix}\n",
    "$$\n",
    "\n",
    "$$\n",
    "{\\bf B} = \n",
    "\\begin{pmatrix} \n",
    "6 & -4 \\\\\n",
    "3 & 2 \\\\\n",
    "7 & -5\n",
    "\\end{pmatrix}\n",
    "$$\n",
    "\n",
    "\n",
    "### a) Find the coefficient matrix [L/U] of Doolittle's decomposition method. <br>\n",
    "### b) Solve the equations  𝐀𝐱=𝐛."
   ]
  },
  {
   "cell_type": "code",
   "execution_count": 3,
   "id": "a57f5469",
   "metadata": {},
   "outputs": [
    {
     "name": "stdout",
     "output_type": "stream",
     "text": [
      "x 1 = [1. 1. 1.]\n",
      "x 2 = [-1.00000000e+00  1.00000000e+00  2.30695693e-17]\n"
     ]
    }
   ],
   "source": []
  },
  {
   "cell_type": "markdown",
   "id": "174aa19e",
   "metadata": {},
   "source": [
    "## 2. Solve the equations Ax = b by Choleski’s decomposition\n",
    "$$\n",
    "{\\bf A} = \n",
    "\\begin{pmatrix} \n",
    "1.44 & -0.36 & 5.52 &0.00\\\\\n",
    "-0.36 &10.33 & -7.78&0.00 \\\\\n",
    "5.52 & -7.78& 28.40&9.00 \\\\\n",
    "0.00&0.00&9.00&61.00\n",
    "\\end{pmatrix}\n",
    "$$\n",
    "\n",
    "$$\n",
    "{\\bf B} = \n",
    "\\begin{pmatrix} \n",
    "0.04  \\\\\n",
    "-2.15 \\\\\n",
    "0 \\\\\n",
    "0.88\n",
    "\\end{pmatrix}\n",
    "$$"
   ]
  },
  {
   "cell_type": "code",
   "execution_count": 23,
   "id": "a4ba909b",
   "metadata": {},
   "outputs": [
    {
     "name": "stdout",
     "output_type": "stream",
     "text": [
      "[ 3.09212567 -0.73871706 -0.8475723   0.13947788]\n"
     ]
    }
   ],
   "source": []
  },
  {
   "cell_type": "markdown",
   "id": "5dd78ace",
   "metadata": {},
   "source": [
    "## 3. Find L and U \n",
    "### so that\n",
    "$$\n",
    "{\\bf A} = {\\bf LU}=\n",
    "\\begin{pmatrix} \n",
    "4 & -1 & 0\\\\\n",
    "-1 & 4 & -1 \\\\\n",
    "0 & -1& 4 \\\\\n",
    "\\end{pmatrix}\n",
    "$$\n",
    "### using (a) Doolittle’s decomposition; (b) Choleski’s decomposition"
   ]
  },
  {
   "cell_type": "code",
   "execution_count": 30,
   "id": "df2677e7",
   "metadata": {},
   "outputs": [
    {
     "name": "stdout",
     "output_type": "stream",
     "text": [
      "A after LUdecomp (Doolittle)= \n",
      "[[ 4.         -1.          0.        ]\n",
      " [-0.25        3.75       -1.        ]\n",
      " [ 0.         -0.26666667  3.73333333]]\n",
      "A after Choleski= \n",
      "[[ 2.          0.          0.        ]\n",
      " [-0.5         1.93649167  0.        ]\n",
      " [ 0.         -0.51639778  1.93218357]]\n"
     ]
    }
   ],
   "source": []
  },
  {
   "cell_type": "markdown",
   "id": "9a75935c",
   "metadata": {},
   "source": [
    "## 4. Determine the fourth-degree polynomial y(x) that passes through the points (0, −1), (1, 1), (3, 3), (5, 2), and (6, −2). "
   ]
  },
  {
   "cell_type": "code",
   "execution_count": 37,
   "id": "f682435b",
   "metadata": {},
   "outputs": [
    {
     "data": {
      "text/plain": [
       "array([-1.        ,  2.68333333, -0.875     ,  0.21666667, -0.025     ])"
      ]
     },
     "execution_count": 37,
     "metadata": {},
     "output_type": "execute_result"
    }
   ],
   "source": [
    "\n"
   ]
  }
 ],
 "metadata": {
  "kernelspec": {
   "display_name": "Python 3 (ipykernel)",
   "language": "python",
   "name": "python3"
  },
  "language_info": {
   "codemirror_mode": {
    "name": "ipython",
    "version": 3
   },
   "file_extension": ".py",
   "mimetype": "text/x-python",
   "name": "python",
   "nbconvert_exporter": "python",
   "pygments_lexer": "ipython3",
   "version": "3.9.12"
  }
 },
 "nbformat": 4,
 "nbformat_minor": 5
}

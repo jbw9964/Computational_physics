{
 "cells": [
  {
   "attachments": {},
   "cell_type": "markdown",
   "id": "924b056d",
   "metadata": {
    "id": "924b056d"
   },
   "source": [
    "\n",
    "## 1. Lagrange's method and cubic splines exercises\n",
    "\n",
    "Given the following data\n",
    "\n",
    "x = [0, 1, 2] \\\n",
    "y = [1, 4, 3]\n",
    "\n",
    "a) Use the Langrange interpolation method to find analytically the second order polynomial that fits the data.\n",
    "\n",
    "b) Find the analytical expressions of the cubic splines assuming that the curvatures at the endpoints $k_0 = k_2 = 0$ are zero.\n",
    "\n",
    "c) Find the analytical expressions of the cubic splines assuming the curvature for the left point $k_0 = 0$ to be zero and the middle point $k_1 = -5$.\n",
    "\n",
    "d) Plot the polynomials obtained analytically in a), b) and c) and by computing the cubic splines using the numerical libraries.\n"
   ]
  },
  {
   "attachments": {},
   "cell_type": "markdown",
   "id": "0c4d0299",
   "metadata": {},
   "source": [
    "Hint: The Lagrange's polynomial is given by\n",
    "\n",
    "$ P_{n}(x) = \\sum_{i=0}^{n} y_i \\ell_{i}(x)$ where\n",
    "$\\ell_i (x) = \\prod_{j=0 \\\\ j\\neq i}^{n} \\frac{x - x_{j}}{ x_{i} - x_{j}}$ with $i = 0, 1, ..., n$.\n",
    "\n",
    "\n",
    "The equation of a cubic spline in a given interval between [i, i+1] for $i = 0, 1, ..., n$ is\n",
    "\n",
    "$$ f_{i, i+1}(x) = \\frac{k_i}{6} \\left[ \\frac{ \\left( x - x_{i+1} \\right)^3}{ x_i - x_{i+1}} - (x - x_{i+1})(x_i - x_{i+1}) \\right]\n",
    "- \\frac{k_{i+1}}{6} \\left[ \\frac{ \\left( x - x_{i} \\right)^3}{ x_i - x_{i+1}} - (x - x_{i})(x_i - x_{i+1}) \\right] \\\\\n",
    "\\quad \\quad \\quad + \\frac{y_i \\left( x - x_{i+1}\\right) - y_{i+1} \\left( x - x_i \\right)}{ x_i - x_{i+1}} $$\n",
    "\n",
    "and the equations for the curvatures are\n",
    "\n",
    "$k_{i-1} \\left(x_{i-1} - x_{i} \\right) + 2k_i \\left(x_{i-1} - x_{i+1} \\right) + k_{i+1} \\left( x_i - x_{i+1} \\right) = 6 \\left( \\frac{y_{i-1} - y_i}{x_{i-1} - x_{i}} - \\frac{y_i - y_{i+1}}{x_{i} - x_{i+1}} \\right)$\n",
    "\n",
    "for $i = 1, 2, ..., n-1$"
   ]
  },
  {
   "attachments": {},
   "cell_type": "markdown",
   "id": "c8d388dc",
   "metadata": {},
   "source": [
    "### 1.(a) : Use the Langrange interpolation method to find analytically the second order polynomial that fits the data."
   ]
  },
  {
   "cell_type": "code",
   "execution_count": null,
   "id": "b74cf7e2",
   "metadata": {},
   "outputs": [],
   "source": []
  },
  {
   "attachments": {},
   "cell_type": "markdown",
   "id": "5302e8cd",
   "metadata": {},
   "source": [
    "### 1.(b) : Find the analytical expressions of the cubic splines assuming that the curvatures at the endpoints $k_{0} = k_{2} = 0$ are zero."
   ]
  },
  {
   "cell_type": "code",
   "execution_count": null,
   "id": "3209155a",
   "metadata": {},
   "outputs": [],
   "source": []
  },
  {
   "attachments": {},
   "cell_type": "markdown",
   "id": "47a20f15",
   "metadata": {},
   "source": [
    "### 1.(c) : Find the analytical expressions of the cubic splines assuming the curvature for the left point $k_{0}$ to be zero and the middle point $k_{1} = -5$ ."
   ]
  },
  {
   "cell_type": "code",
   "execution_count": null,
   "id": "3b63f438",
   "metadata": {},
   "outputs": [],
   "source": []
  },
  {
   "attachments": {},
   "cell_type": "markdown",
   "id": "afd9fc04",
   "metadata": {},
   "source": [
    "### 1.(d) : Plot the polynomials obtained analytically in a), b) and c) and by computing the cubic splines using the numerical libraries."
   ]
  },
  {
   "cell_type": "code",
   "execution_count": null,
   "id": "4da10e8d",
   "metadata": {},
   "outputs": [],
   "source": []
  },
  {
   "attachments": {},
   "cell_type": "markdown",
   "id": "27d9e333",
   "metadata": {},
   "source": [
    "## 2.Polynomial interpolation and cubic splines.\n",
    "\n",
    "### Program the code to find the $n^{th}$ order polynomial that interpolates the following $n + 1$ data points. \n",
    "### Then program the code to find the natural cubic splines. Plot both results with 30 interpolating points.\n",
    "$\n",
    "x = [0, 1, 2, 3, 4] \\\\\n",
    "y = [0, 1, 0, 2, 0]\n",
    "$"
   ]
  },
  {
   "cell_type": "code",
   "execution_count": null,
   "id": "31169fc4",
   "metadata": {},
   "outputs": [],
   "source": []
  },
  {
   "attachments": {
    "%EC%8A%A4%ED%81%AC%EB%A6%B0%EC%83%B7%28945%29.png": {
     "image/png": "[encoded data removed]"
    }
   },
   "cell_type": "markdown",
   "id": "4b4face4",
   "metadata": {},
   "source": [
    "## 3. Use Newton's method to find the polynomial that fits the following points:\n",
    "\n",
    "![%EC%8A%A4%ED%81%AC%EB%A6%B0%EC%83%B7%28945%29.png](attachment:%EC%8A%A4%ED%81%AC%EB%A6%B0%EC%83%B7%28945%29.png)\n",
    "\n",
    "Newton's polynomials are defined as\n",
    "\n",
    "$$P_0(x) = a_n  ~~~~ P_k(x) = a_{n-k} + (x-x_{n-k})P_{k-1}(x) , ~~~~ k=1,2,\\cdots,n$$\n",
    "\n",
    "and the coeffecients are given by:\n",
    "$$a_0=y_0  ~~~~ a_1 = \\triangledown y_1~~~~ a_2 = \\triangledown^2 y_2 ~~~~ \\cdots ~~~~\n",
    "a_n = \\triangledown y_n$$\n",
    "\n",
    "\n",
    "\n",
    "$$\\triangledown y_i = \\frac{y_i - y_0}{x_i - x_0} ~~~~ i = 1,2,\\cdots,n$$\n",
    "\n",
    "$$\\triangledown^2 y_i = \\frac{\\triangledown y_i - \\triangledown y_1}{x_i - x_1} ~~~~ i = 2,3,\\cdots,n$$\n",
    "\n",
    "$$\\triangledown^3 y_i = \\frac{\\triangledown y_i - \\triangledown y_2}{x_i - x_2} ~~~~ i = 3,4, \\cdots,n$$\n",
    "\n",
    "$$\\vdots$$\n",
    "\n",
    "$$\\triangledown y_n = \\frac{\\triangledown^{n-1} y_n - \\triangledown^{n-1}y_{n-1}}{x_n - x_{n-1}}$$\n",
    "\n",
    "\n",
    "|  |   |   |   |   |    |   |    |   |\n",
    "|---|---|---|---|---|---|---|----|---|\n",
    "|$x_0$|$y_0$|   |  |    |   |\n",
    "|$x_1$|$y_1$|$\\triangledown y_1$|  |    |   |\n",
    "|$x_2$|$y_2$|$\\triangledown y_2$|$\\triangledown^2 y_2$|  |   |"
   ]
  },
  {
   "attachments": {},
   "cell_type": "markdown",
   "id": "8003d441",
   "metadata": {},
   "source": [
    "a) Find the coefficients of Newton's polynomial\n",
    "\n",
    "b) Write the code to find the Newton's polynomial function and print the y value when $x = 0.5.$\n",
    "\n",
    "c) Plot an interpolating polynomial between $x \\in [-3, 3]$ with 20 points. Mark with\n",
    "symbols the input data points and make sure that the interpolated function passes\n",
    "through them."
   ]
  },
  {
   "attachments": {},
   "cell_type": "markdown",
   "id": "35486b4a",
   "metadata": {},
   "source": [
    "### 2.(a) : Find the coefficients of Newton's polynomial"
   ]
  },
  {
   "cell_type": "code",
   "execution_count": null,
   "id": "c1184a64",
   "metadata": {},
   "outputs": [],
   "source": []
  },
  {
   "attachments": {},
   "cell_type": "markdown",
   "id": "07f2e4dc",
   "metadata": {},
   "source": [
    "### 2.(b) : Write the code to find the Newton's polynomial function and print the y value when x=0.5"
   ]
  },
  {
   "cell_type": "code",
   "execution_count": null,
   "id": "a46d2a3f",
   "metadata": {},
   "outputs": [],
   "source": []
  },
  {
   "attachments": {},
   "cell_type": "markdown",
   "id": "c4b41271",
   "metadata": {},
   "source": [
    "### 2.(c) : Plot an interpolating polynomial between $x \\in [-3, 3]$ with 20 points. Mark with symbols the input data points and make sure that the interpolated function passes through them."
   ]
  },
  {
   "cell_type": "code",
   "execution_count": null,
   "id": "264cf4cb",
   "metadata": {},
   "outputs": [],
   "source": []
  },
  {
   "cell_type": "code",
   "execution_count": 11,
   "id": "ee8f3da1",
   "metadata": {},
   "outputs": [
    {
     "data": {
      "text/latex": [
       "$\\displaystyle f_{(0,1)(x)} = - \\frac{5 x^{3}}{6} + \\frac{23 x}{6} + 1$"
      ],
      "text/plain": [
       "Eq(f_(0,1)(x), -5*x**3/6 + 23*x/6 + 1)"
      ]
     },
     "metadata": {},
     "output_type": "display_data"
    },
    {
     "data": {
      "text/latex": [
       "$\\displaystyle f_{(1,2)(x)} = \\frac{x^{3}}{6} - 3 x^{2} + \\frac{41 x}{6}$"
      ],
      "text/plain": [
       "Eq(f_(1,2)(x), x**3/6 - 3*x**2 + 41*x/6)"
      ]
     },
     "metadata": {},
     "output_type": "display_data"
    }
   ],
   "source": [
    "import sympy\n",
    "from IPython.display import display\n",
    "\n",
    "X = sympy.Symbol(\"x\")\n",
    "k = [0, -5, -4]\n",
    "x = [0, 1, 2]\n",
    "y = [1, 4, 3]\n",
    "\n",
    "for i in range(0, 2):\n",
    "    expression = k[i] / 6 * (((X - x[i + 1])**3) / (x[i] - x[i + 1]) - (X - x[i + 1]) * (x[i] - x[i + 1]))\n",
    "    expression -= k[i + 1] / 6 * (((X - x[i])**3) / (x[i] - x[i + 1]) - (X - x[i]) * (x[i] - x[i + 1]))\n",
    "    expression += (y[i] * (X - x[i + 1]) - y[i + 1] * (X - x[i])) / (x[i] - x[i + 1])\n",
    "    \n",
    "    expand = sympy.expand(expression)\n",
    "    numerator, denominator = sympy.fraction(expand)\n",
    "    fraction = numerator / denominator\n",
    "\n",
    "    display(sympy.Eq(sympy.Symbol(f\"f_({i},{i+1})(x)\"), sympy.nsimplify(fraction, rational=True, tolerance=1.0e-12)))\n",
    "\n"
   ]
  },
  {
   "cell_type": "code",
   "execution_count": 12,
   "id": "02b36aaa",
   "metadata": {},
   "outputs": [
    {
     "data": {
      "text/plain": [
       "3.33066907387547e-16"
      ]
     },
     "execution_count": 12,
     "metadata": {},
     "output_type": "execute_result"
    }
   ],
   "source": [
    "333066907387547 / 1000000000000000000000000000000"
   ]
  },
  {
   "cell_type": "code",
   "execution_count": null,
   "id": "b95fcafb",
   "metadata": {},
   "outputs": [],
   "source": []
  }
 ],
 "metadata": {
  "colab": {
   "provenance": []
  },
  "kernelspec": {
   "display_name": "Python 3 (ipykernel)",
   "language": "python",
   "name": "python3"
  },
  "language_info": {
   "codemirror_mode": {
    "name": "ipython",
    "version": 3
   },
   "file_extension": ".py",
   "mimetype": "text/x-python",
   "name": "python",
   "nbconvert_exporter": "python",
   "pygments_lexer": "ipython3",
   "version": "3.10.0"
  }
 },
 "nbformat": 4,
 "nbformat_minor": 5
}

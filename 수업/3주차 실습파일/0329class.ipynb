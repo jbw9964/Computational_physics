{
 "cells": [
  {
   "cell_type": "markdown",
   "id": "992ea339",
   "metadata": {},
   "source": [
    "### Example1\n",
    "Solve the equations \n",
    "$$ \\begin{bmatrix}\n",
    "4 & -1 & 1 \\\\\n",
    "-1 & 4 & -2 \\\\\n",
    "1 & -2 & 4\n",
    "\\end{bmatrix}  \\begin{bmatrix}\n",
    "x_1 \\\\\n",
    "x_2 \\\\\n",
    "x_3 \\\\\n",
    "\\end{bmatrix} = \n",
    "\\begin{bmatrix}\n",
    "12 \\\\\n",
    "-1 \\\\\n",
    "5 \\\\\n",
    "\\end{bmatrix}$$\n",
    "by the Conjugate gradient.($x_0 = [0,0,0]$)"
   ]
  },
  {
   "cell_type": "code",
   "execution_count": 3,
   "id": "ff857801",
   "metadata": {},
   "outputs": [],
   "source": [
    "from numpy import ndarray\n",
    "def conju_grad(A : ndarray, B : ndarray, X_init=None, tol=1.0e-9, iter=10) : \n",
    "    import numpy as np\n",
    "\n",
    "    if X_init is None : \n",
    "        X_init = np.zeros(B.shape)\n",
    "    \n",
    "    r = B - A @ X_init\n",
    "    s = r.copy()\n",
    "\n",
    "    sol_iter = 0\n",
    "    while sol_iter <= iter : \n",
    "        \n",
    "        alpha = (r.T @ s) / (s.T @ A @ s)\n",
    "        X_init = X_init + alpha * s\n",
    "        r = B - A @ X_init\n",
    "\n",
    "        if np.sqrt(r.T @ r) <= tol : \n",
    "            break\n",
    "        \n",
    "        else : \n",
    "            beta = -1 * (r.T @ A @ s) / (s.T @ A @ s)\n",
    "            s = r + beta * s\n",
    "            sol_iter += 1\n",
    "    \n",
    "    return X_init, sol_iter"
   ]
  },
  {
   "cell_type": "code",
   "execution_count": 5,
   "id": "8f02b7b3",
   "metadata": {},
   "outputs": [
    {
     "name": "stdout",
     "output_type": "stream",
     "text": [
      "[[3.]\n",
      " [1.]\n",
      " [1.]]\n",
      "2\n"
     ]
    }
   ],
   "source": [
    "import numpy as np\n",
    "\n",
    "A = np.array([\n",
    "    [4, -1, 1],\n",
    "    [-1, 4, -2],\n",
    "    [1, -2, 4]\n",
    "], dtype=float)\n",
    "\n",
    "B = np.array([\n",
    "    [12, -1, 5]\n",
    "], dtype=float).T\n",
    "\n",
    "solution, num_iter = conju_grad(A, B)\n",
    "print(solution, num_iter, sep=\"\\n\")"
   ]
  },
  {
   "cell_type": "code",
   "execution_count": 6,
   "id": "62db3398",
   "metadata": {},
   "outputs": [
    {
     "data": {
      "text/plain": [
       "array([[3.],\n",
       "       [1.],\n",
       "       [1.]])"
      ]
     },
     "execution_count": 6,
     "metadata": {},
     "output_type": "execute_result"
    }
   ],
   "source": [
    "A = np.array([\n",
    "    [4, -1, 1],\n",
    "    [-1, 4, -2],\n",
    "    [1, -2, 4]\n",
    "], dtype=float)\n",
    "\n",
    "B = np.array([\n",
    "    [12, -1, 5]\n",
    "], dtype=float).T\n",
    "\n",
    "np.linalg.solve(A, B)"
   ]
  },
  {
   "cell_type": "markdown",
   "id": "8c1acf23",
   "metadata": {},
   "source": [
    "### Example2"
   ]
  },
  {
   "attachments": {
    "%EC%8A%A4%ED%81%AC%EB%A6%B0%EC%83%B7%28926%29.png": {
     "image/png": "[encoded data removed]"
    }
   },
   "cell_type": "markdown",
   "id": "b88903d7",
   "metadata": {},
   "source": [
    "![%EC%8A%A4%ED%81%AC%EB%A6%B0%EC%83%B7%28926%29.png](attachment:%EC%8A%A4%ED%81%AC%EB%A6%B0%EC%83%B7%28926%29.png)"
   ]
  },
  {
   "cell_type": "markdown",
   "id": "4ca3008e",
   "metadata": {},
   "source": [
    "The equilibrium equations of the blocks in the spring-block system are\n",
    "\n",
    "$$3(x_2 - x_1) - 2x_1 = -80$$\n",
    "\n",
    "$$3(x_3 - x_2) - 3(x_2-x_1) = 0$$\n",
    "\n",
    "$$3(x_4 - x_3) - 3(x_3-x_2) = 0$$\n",
    "\n",
    "$$3(x_5- x_4) - 3(x_4-x_3) = 60$$\n",
    "\n",
    "$$-2x_5 - 3(x_5-x_4) = 0$$\n",
    "\n",
    "Solve the equaion with the conjugate gradient method. Start with x=0."
   ]
  },
  {
   "attachments": {},
   "cell_type": "markdown",
   "id": "453b8ffe",
   "metadata": {},
   "source": [
    "$$\n",
    "-5x_{1} + 3x_{2} = -80\\\\\n",
    "3x_{1} - 6x_{2} + 3x_{3} = 0\\\\\n",
    "3x_{2} - 6x_{3} + 3x_{4} = 0\\\\\n",
    "3x_{3} - 6x_{4} + 3x_{5} = 60\\\\\n",
    "3x_{4} - 5x_{5} = 0\\\\\n",
    "$$"
   ]
  },
  {
   "attachments": {},
   "cell_type": "markdown",
   "id": "62d7c34c",
   "metadata": {},
   "source": [
    "$$A =\n",
    "\\begin{pmatrix}\n",
    "-5 & 3 & 0 & 0 & 0 \\\\\n",
    "3 & -6 & 3 & 0 & 0 \\\\\n",
    "0 & 3 & -6 & 3 & 0 \\\\\n",
    "0 & 0 & 3 & -6 & 3 \\\\\n",
    "0 & 0 & 0 & 3 & -5 \\\\\n",
    "\\end{pmatrix},\n",
    "\n",
    "B = \n",
    "\\begin{pmatrix}\n",
    "-80\\\\\n",
    "0\\\\\n",
    "0\\\\\n",
    "60\\\\\n",
    "0\n",
    "\\end{pmatrix}\n",
    "$$"
   ]
  },
  {
   "cell_type": "code",
   "execution_count": 9,
   "id": "bbacf0d0",
   "metadata": {},
   "outputs": [],
   "source": [
    "import numpy as np\n",
    "\n",
    "def create_matrix() : \n",
    "    import numpy as np\n",
    "    \n",
    "    temp_1 = np.eye(5, dtype=float) * -6\n",
    "    temp_1[0,0] = -5\n",
    "    temp_1[4,4] = -5\n",
    "\n",
    "    temp_1 = temp_1 + np.eye(5, k=1, dtype=float) * 3 + np.eye(5, k=-1, dtype=float) * 3\n",
    "    return temp_1"
   ]
  },
  {
   "cell_type": "code",
   "execution_count": 11,
   "id": "a47ec34c",
   "metadata": {},
   "outputs": [],
   "source": [
    "A = create_matrix()\n",
    "B = np.array([\n",
    "    [-80, 0, 0, 60, 0]\n",
    "], dtype=float).T"
   ]
  },
  {
   "cell_type": "code",
   "execution_count": 12,
   "id": "24e55d82",
   "metadata": {},
   "outputs": [
    {
     "name": "stdout",
     "output_type": "stream",
     "text": [
      "4\n",
      "[[ 20.71428571]\n",
      " [  7.85714286]\n",
      " [ -5.        ]\n",
      " [-17.85714286]\n",
      " [-10.71428571]]\n"
     ]
    }
   ],
   "source": [
    "x_sol, num_iter = conju_grad(A, B)\n",
    "print(num_iter)\n",
    "print(x_sol)"
   ]
  },
  {
   "cell_type": "code",
   "execution_count": 14,
   "id": "5792b16f",
   "metadata": {},
   "outputs": [
    {
     "name": "stdout",
     "output_type": "stream",
     "text": [
      "[[-80.]\n",
      " [  0.]\n",
      " [ -0.]\n",
      " [ 60.]\n",
      " [ -0.]]\n"
     ]
    }
   ],
   "source": [
    "print(np.round(A @ x_sol, 2))"
   ]
  },
  {
   "cell_type": "code",
   "execution_count": null,
   "id": "b19d1db7",
   "metadata": {},
   "outputs": [],
   "source": []
  }
 ],
 "metadata": {
  "kernelspec": {
   "display_name": "Python 3 (ipykernel)",
   "language": "python",
   "name": "python3"
  },
  "language_info": {
   "codemirror_mode": {
    "name": "ipython",
    "version": 3
   },
   "file_extension": ".py",
   "mimetype": "text/x-python",
   "name": "python",
   "nbconvert_exporter": "python",
   "pygments_lexer": "ipython3",
   "version": "3.10.0"
  }
 },
 "nbformat": 4,
 "nbformat_minor": 5
}

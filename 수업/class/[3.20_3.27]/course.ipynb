{
 "cells": [
  {
   "attachments": {},
   "cell_type": "markdown",
   "metadata": {},
   "source": [
    "## sympy"
   ]
  },
  {
   "cell_type": "code",
   "execution_count": 1,
   "metadata": {},
   "outputs": [],
   "source": [
    "import sympy as sp"
   ]
  },
  {
   "cell_type": "code",
   "execution_count": 7,
   "metadata": {},
   "outputs": [],
   "source": [
    "sp.init_printing(use_latex=True)"
   ]
  },
  {
   "cell_type": "code",
   "execution_count": 18,
   "metadata": {},
   "outputs": [],
   "source": [
    "x1 = sp.symbols(\"x1\")\n",
    "x2 = sp.symbols(\"x2\")\n",
    "x3 = sp.symbols(\"x3\")\n",
    "\n",
    "eq_1 = sp.Eq(4 * x1 - 2 * x2 + x3, 11)\n",
    "eq_2 = sp.Eq(-2 * x1 + 4 * x2 - 2 * x3, -16)\n",
    "eq_3 = sp.Eq(x1 - 2 * x2 + 4 * x3, 17)"
   ]
  },
  {
   "cell_type": "code",
   "execution_count": 19,
   "metadata": {},
   "outputs": [
    {
     "data": {
      "image/png": "[encoded data removed]",
      "text/latex": [
       "$\\displaystyle \\left\\{ x_{1} : 1, \\  x_{2} : -2, \\  x_{3} : 3\\right\\}$"
      ],
      "text/plain": [
       "{x₁: 1, x₂: -2, x₃: 3}"
      ]
     },
     "execution_count": 19,
     "metadata": {},
     "output_type": "execute_result"
    }
   ],
   "source": [
    "sp.solve([eq_1, eq_2, eq_3], [x1, x2, x3])"
   ]
  },
  {
   "cell_type": "code",
   "execution_count": 14,
   "metadata": {},
   "outputs": [],
   "source": [
    "x = sp.symbols(\"x\")\n",
    "f = sp.symbols(\"f\", cls=sp.Function)\n",
    "\n",
    "y = f(x)\n",
    "z = sp.symbols(\"z\")"
   ]
  },
  {
   "cell_type": "code",
   "execution_count": 16,
   "metadata": {},
   "outputs": [
    {
     "data": {
      "image/png": "[encoded data removed]",
      "text/latex": [
       "$\\displaystyle f{\\left(x \\right)} = \\frac{C_{1}}{x} + x$"
      ],
      "text/plain": [
       "       C₁    \n",
       "f(x) = ── + x\n",
       "       x     "
      ]
     },
     "execution_count": 16,
     "metadata": {},
     "output_type": "execute_result"
    }
   ],
   "source": [
    "equation = sp.Eq(x * sp.diff(y, x) + y, 2 * x)\n",
    "sp.dsolve(equation, f(x))"
   ]
  },
  {
   "cell_type": "code",
   "execution_count": 17,
   "metadata": {},
   "outputs": [
    {
     "data": {
      "image/png": "[encoded data removed]",
      "text/latex": [
       "$\\displaystyle f{\\left(x \\right)} = x + \\frac{1}{x}$"
      ],
      "text/plain": [
       "           1\n",
       "f(x) = x + ─\n",
       "           x"
      ]
     },
     "execution_count": 17,
     "metadata": {},
     "output_type": "execute_result"
    }
   ],
   "source": [
    "sp.dsolve(equation, y, ics={f(1):2})"
   ]
  },
  {
   "cell_type": "code",
   "execution_count": 68,
   "metadata": {},
   "outputs": [
    {
     "name": "stdout",
     "output_type": "stream",
     "text": [
      "[[ 4.  -2.   1. ]\n",
      " [ 0.   3.  -1.5]\n",
      " [ 0.   0.   3. ]]\n",
      "\n",
      "[ 1. -2.  3.]\n"
     ]
    }
   ],
   "source": [
    "import numpy as np\n",
    "\n",
    "A = [\n",
    "    [4, -2, 1],\n",
    "    [-2, 4, -2],\n",
    "    [1, -2, 4]\n",
    "]\n",
    "\n",
    "b = [11, -16, 17]\n",
    "\n",
    "A = np.array(A, dtype=float)\n",
    "b = np.array(b, dtype=float)\n",
    "\n",
    "n = len(A)\n",
    "\n",
    "for k in range(0, n - 1) : \n",
    "    for i in range(k + 1, n) : \n",
    "        \n",
    "        if A[i,k] != 0.0 : \n",
    "            lam = A[i,k] / A[k, k]\n",
    "\n",
    "            A[i] -= lam * A[k]\n",
    "            # A[i, k + 1: n] = A[i, k + 1: n] - lam * A[k, k+1 : n]\n",
    "            # print(A)\n",
    "            # print()\n",
    "            b[i] -= lam * b[k]\n",
    "            # print(b)\n",
    "            # print()\n",
    "\n",
    "\n",
    "for k in range(n -1, -1, -1) : \n",
    "    \n",
    "    b[k] -= np.dot(A[k, k+1 : n], b[k + 1 : n])\n",
    "    \n",
    "    # print(A[k, k+1 : n])\n",
    "    # print()\n",
    "    \n",
    "    # print(b[k + 1 : n])\n",
    "    # print()\n",
    "\n",
    "    b[k] /= A[k,k]\n",
    "\n",
    "\n",
    "print(A)\n",
    "print()\n",
    "print(b)\n",
    "\n"
   ]
  },
  {
   "cell_type": "code",
   "execution_count": null,
   "metadata": {},
   "outputs": [],
   "source": []
  }
 ],
 "metadata": {
  "kernelspec": {
   "display_name": "Python 3",
   "language": "python",
   "name": "python3"
  },
  "language_info": {
   "codemirror_mode": {
    "name": "ipython",
    "version": 3
   },
   "file_extension": ".py",
   "mimetype": "text/x-python",
   "name": "python",
   "nbconvert_exporter": "python",
   "pygments_lexer": "ipython3",
   "version": "3.10.0"
  },
  "orig_nbformat": 4
 },
 "nbformat": 4,
 "nbformat_minor": 2
}

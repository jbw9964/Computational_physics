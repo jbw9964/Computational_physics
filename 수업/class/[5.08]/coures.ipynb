{
 "cells": [
  {
   "cell_type": "code",
   "execution_count": 16,
   "metadata": {},
   "outputs": [
    {
     "data": {
      "text/plain": [
       "(-0.5, 5.551115123125783e-15)"
      ]
     },
     "execution_count": 16,
     "metadata": {},
     "output_type": "execute_result"
    }
   ],
   "source": [
    "from scipy.integrate import quad, nquad\n",
    "\n",
    "def f(x) : \n",
    "    return -1 * x\n",
    "\n",
    "quad(func=f, a=0, b=1)"
   ]
  },
  {
   "cell_type": "code",
   "execution_count": 17,
   "metadata": {},
   "outputs": [
    {
     "data": {
      "text/plain": [
       "[<matplotlib.lines.Line2D at 0x1389f3490>]"
      ]
     },
     "execution_count": 17,
     "metadata": {},
     "output_type": "execute_result"
    },
    {
     "data": {
      "image/png": "[encoded data removed]",
      "text/plain": [
       "<Figure size 640x480 with 1 Axes>"
      ]
     },
     "metadata": {},
     "output_type": "display_data"
    }
   ],
   "source": [
    "import numpy as np\n",
    "import matplotlib.pyplot as plt\n",
    "\n",
    "def f(x) : \n",
    "    return -1 * x**2 -5 * x + 6\n",
    "\n",
    "def g(x) : \n",
    "    return -1 * x**2 + x + 6\n",
    "\n",
    "x = np.linspace(-5, 5)\n",
    "\n",
    "plt.plot(x, f(x))\n",
    "plt.plot(x, g(x))"
   ]
  },
  {
   "cell_type": "code",
   "execution_count": 18,
   "metadata": {},
   "outputs": [
    {
     "data": {
      "text/plain": [
       "2.75"
      ]
     },
     "execution_count": 18,
     "metadata": {},
     "output_type": "execute_result"
    }
   ],
   "source": [
    "(1.5 + 1.25) * 2 / 2"
   ]
  },
  {
   "cell_type": "code",
   "execution_count": 19,
   "metadata": {},
   "outputs": [
    {
     "data": {
      "text/plain": [
       "1"
      ]
     },
     "execution_count": 19,
     "metadata": {},
     "output_type": "execute_result"
    }
   ],
   "source": [
    "int(3 / 2)"
   ]
  },
  {
   "cell_type": "code",
   "execution_count": 20,
   "metadata": {},
   "outputs": [
    {
     "name": "stdout",
     "output_type": "stream",
     "text": [
      "0\n",
      "3\n",
      "6\n"
     ]
    }
   ],
   "source": [
    "for i in range(3) : \n",
    "    print(int(i * 10 / 3))"
   ]
  },
  {
   "cell_type": "code",
   "execution_count": 21,
   "metadata": {},
   "outputs": [],
   "source": [
    "from numpy import pi\n",
    "x = np.array([0, pi / 4, pi / 2, 3 * pi / 4, pi])\n",
    "y = np.array([1, 0.3431, 0.2500, 0.3431, 1.000])"
   ]
  },
  {
   "cell_type": "code",
   "execution_count": 22,
   "metadata": {},
   "outputs": [],
   "source": [
    "def trapezoidal(x_data, y_data, k) : \n",
    "    n = len(x_data) - 1\n",
    "    if k > n : \n",
    "        print(f\"Since input data has length of [{n + 1}], there can be [{n}] panels maximum.\")\n",
    "        return\n",
    "\n",
    "    Area = 0\n",
    "    \n",
    "    for i in range(k) : \n",
    "        index = int(i * n / k)\n",
    "        index_next = int((i + 1) * n / k)\n",
    "\n",
    "        x1 = x_data[index]\n",
    "        x2 = x_data[index_next]\n",
    "        y1 = y_data[index]\n",
    "        y2 = y_data[index_next]\n",
    "\n",
    "        area = (y1 + y2) * (x2 - x1) / 2\n",
    "        Area += area\n",
    "\n",
    "    return Area\n",
    "\n"
   ]
  },
  {
   "cell_type": "code",
   "execution_count": 23,
   "metadata": {},
   "outputs": [
    {
     "data": {
      "text/plain": [
       "1.5206879239701394"
      ]
     },
     "execution_count": 23,
     "metadata": {},
     "output_type": "execute_result"
    }
   ],
   "source": [
    "trapezoidal(x_data=x, y_data=y, k=4)"
   ]
  },
  {
   "cell_type": "code",
   "execution_count": 24,
   "metadata": {},
   "outputs": [
    {
     "data": {
      "text/plain": [
       "1.5206879239701394"
      ]
     },
     "execution_count": 24,
     "metadata": {},
     "output_type": "execute_result"
    }
   ],
   "source": [
    "from scipy.integrate import trapezoid\n",
    "\n",
    "trapezoid(y, x)"
   ]
  },
  {
   "cell_type": "code",
   "execution_count": 25,
   "metadata": {},
   "outputs": [],
   "source": [
    "def simpson(x_data, y_data) : \n",
    "    n = len(x_data) - 1\n",
    "    if n % 2 != 0 : \n",
    "        print(f\"Simpson's 1/3 rules requires odd number of data : [{len(x_data)}]\")\n",
    "        return\n",
    "    \n",
    "    Area = 0\n",
    "    for i in range(0, len(x_data) - 2, 2) : \n",
    "        h = x_data[i + 2] - x_data[i + 1]\n",
    "        h += x_data[i + 1] - x_data[i]\n",
    "        h /= 2\n",
    "        \n",
    "        Area += (y_data[i] + 4 * y_data[i + 1] + y_data[i + 2]) * h / 3\n",
    "    \n",
    "    return Area"
   ]
  },
  {
   "cell_type": "code",
   "execution_count": 26,
   "metadata": {},
   "outputs": [
    {
     "data": {
      "text/plain": [
       "1.373085429128979"
      ]
     },
     "execution_count": 26,
     "metadata": {},
     "output_type": "execute_result"
    }
   ],
   "source": [
    "simpson(x,y)"
   ]
  },
  {
   "cell_type": "code",
   "execution_count": 27,
   "metadata": {},
   "outputs": [
    {
     "data": {
      "text/plain": [
       "1.3730854291289787"
      ]
     },
     "execution_count": 27,
     "metadata": {},
     "output_type": "execute_result"
    }
   ],
   "source": [
    "from scipy.integrate import simpson\n",
    "\n",
    "simpson(y, x)"
   ]
  },
  {
   "cell_type": "code",
   "execution_count": 28,
   "metadata": {},
   "outputs": [],
   "source": [
    "def romberg(x_data, y_data) : \n",
    "    n = len(x_data) - 1\n",
    "    R1_list = [trapezoidal(x_data=x_data, y_data=y_data, k=i) for i in range(1, n + 1)]\n",
    "    R_array = np.zeros(shape=(n, n), dtype=float)\n",
    "    R_array[:,0] = np.array(R1_list)\n",
    "    \n",
    "    for column in range(1, n) : \n",
    "        for row in range(column, n) : \n",
    "            R_array[row, column] = (4**(column) * R_array[row, column - 1] - R_array[row - 1, column - 1]) / (4**(column) - 1)\n",
    "    \n",
    "    return R_array"
   ]
  },
  {
   "cell_type": "code",
   "execution_count": 29,
   "metadata": {},
   "outputs": [
    {
     "data": {
      "text/plain": [
       "array([[3.14159265, 0.        , 0.        , 0.        ],\n",
       "       [1.96349541, 1.57079633, 0.        , 0.        ],\n",
       "       [1.74209167, 1.66829042, 1.67479002, 0.        ],\n",
       "       [1.52068792, 1.44688668, 1.43212643, 1.42827462]])"
      ]
     },
     "execution_count": 29,
     "metadata": {},
     "output_type": "execute_result"
    }
   ],
   "source": [
    "romberg(x,y)"
   ]
  },
  {
   "cell_type": "code",
   "execution_count": 32,
   "metadata": {},
   "outputs": [
    {
     "name": "stdout",
     "output_type": "stream",
     "text": [
      "[1.     0.3431 0.25   0.3431 1.    ]\n",
      "Richardson Extrapolation Table for Romberg Integration\n",
      "======================================================\n",
      " 4.00000 \n",
      " 2.50000  2.00000 \n",
      " 1.93620  1.74827  1.73148 \n",
      "======================================================\n"
     ]
    },
    {
     "data": {
      "text/plain": [
       "1.7314844444444444"
      ]
     },
     "execution_count": 32,
     "metadata": {},
     "output_type": "execute_result"
    }
   ],
   "source": [
    "from scipy.integrate import romb\n",
    "\n",
    "print(y)\n",
    "romb(y, show=True)"
   ]
  },
  {
   "cell_type": "code",
   "execution_count": 31,
   "metadata": {},
   "outputs": [],
   "source": [
    "x_data = np.array([])"
   ]
  }
 ],
 "metadata": {
  "kernelspec": {
   "display_name": "formal",
   "language": "python",
   "name": "python3"
  },
  "language_info": {
   "codemirror_mode": {
    "name": "ipython",
    "version": 3
   },
   "file_extension": ".py",
   "mimetype": "text/x-python",
   "name": "python",
   "nbconvert_exporter": "python",
   "pygments_lexer": "ipython3",
   "version": "3.11.3"
  },
  "orig_nbformat": 4
 },
 "nbformat": 4,
 "nbformat_minor": 2
}

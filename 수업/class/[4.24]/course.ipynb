{
 "cells": [
  {
   "attachments": {},
   "cell_type": "markdown",
   "metadata": {},
   "source": [
    "#### Using Forward, Backward Taylor series expasion,"
   ]
  },
  {
   "attachments": {},
   "cell_type": "markdown",
   "metadata": {},
   "source": [
    "$$ f(x + h) = f(x) + hf'(x) + \\frac{h^{2}}{2!}f''(x) + \\dots $$\n",
    "$$ f(x - h) = f(x) - hf'(x) + \\frac{h^{2}}{2!}f''(x) + \\dots $$"
   ]
  },
  {
   "attachments": {},
   "cell_type": "markdown",
   "metadata": {},
   "source": [
    "$$ f(x + 2h) = f(x) + 2hf'(x) + \\frac{(2h)^{2}}{2!}f''(x) + \\dots $$\n",
    "$$ f(x - 2h) = f(x) - 2hf'(x) + \\frac{(2h)^{2}}{2!}f''(x) + \\dots $$"
   ]
  },
  {
   "attachments": {},
   "cell_type": "markdown",
   "metadata": {},
   "source": [
    "#### Eventually,\n",
    "\n",
    "$$ f(x + h) + f(x - h) = 2f(x) + h^{2}f''(x) + \\dots $$\n",
    "$$ f(x + h) - f(x - h) = 2hf'(x) + \\dots $$"
   ]
  },
  {
   "attachments": {},
   "cell_type": "markdown",
   "metadata": {},
   "source": [
    "$$ f(x + 2h) + f(x - 2h) = 2f(x) + (2h)^{2}f''(x) + \\dots $$\n",
    "$$ f(x + 2h) - f(x - 2h) = 4hf'(x) + \\dots $$"
   ]
  },
  {
   "attachments": {},
   "cell_type": "markdown",
   "metadata": {},
   "source": [
    "$$ f'(x) = \\frac{f(x + h) - f(x - h)}{2h} + O(h)$$\n",
    "$$ f'(x) = \\frac{f(x + 2h) - f(x - 2h)}{4h} + O(h)$$"
   ]
  },
  {
   "attachments": {},
   "cell_type": "markdown",
   "metadata": {},
   "source": [
    "$$ f''(x) = \\frac{f(x + h) - 2f(x) + f(x - h)}{h^{2}} + O(h^{2})$$\n",
    "$$ f''(x) = \\frac{f(x + 2h) - 2f(x) + f(x - 2h)}{(2h)^{2}} + \\dots$$"
   ]
  },
  {
   "attachments": {},
   "cell_type": "markdown",
   "metadata": {},
   "source": [
    "#### This is how Central Difference Approximation works."
   ]
  },
  {
   "cell_type": "code",
   "execution_count": 1,
   "metadata": {},
   "outputs": [],
   "source": [
    "import numpy as np\n",
    "import matplotlib.pyplot as plt\n"
   ]
  },
  {
   "cell_type": "code",
   "execution_count": null,
   "metadata": {},
   "outputs": [],
   "source": []
  }
 ],
 "metadata": {
  "kernelspec": {
   "display_name": "Python 3",
   "language": "python",
   "name": "python3"
  },
  "language_info": {
   "codemirror_mode": {
    "name": "ipython",
    "version": 3
   },
   "file_extension": ".py",
   "mimetype": "text/x-python",
   "name": "python",
   "nbconvert_exporter": "python",
   "pygments_lexer": "ipython3",
   "version": "3.11.3"
  },
  "orig_nbformat": 4
 },
 "nbformat": 4,
 "nbformat_minor": 2
}

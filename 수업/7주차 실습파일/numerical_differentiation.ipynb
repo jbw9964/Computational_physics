{
 "cells": [
  {
   "cell_type": "markdown",
   "id": "27ed81d8",
   "metadata": {},
   "source": [
    "### Finite Difference Approximations\n",
    "<ol> \n",
    "    <li>First forward finite difference method</li>\n",
    "    <li>First backward finite difference method</li>\n",
    "    <li>Second forward finite difference method</li>\n",
    "    <li>Second backward finite difference method</li>\n",
    "    <li>Central finite difference method</li>\n",
    "    </ol>"
   ]
  },
  {
   "cell_type": "markdown",
   "id": "65a4d727",
   "metadata": {},
   "source": [
    "We want to obtain the differentiation of ${0.1x^5 - 0.7x^3 + 0.2x - 0.1}$\n",
    "\n",
    "Solution: the analytical differentiation gives\n",
    "$\\quad \\quad f\\prime(x) =  0.5x^4 - 2.1x^2 + 0.2 $\n",
    "\n",
    "$\\quad \\quad f\\prime\\prime(x) =  2x^3 - 4.2x $"
   ]
  },
  {
   "cell_type": "code",
   "execution_count": null,
   "id": "dcd991c9",
   "metadata": {},
   "outputs": [],
   "source": []
  },
  {
   "cell_type": "markdown",
   "id": "e2be2a52",
   "metadata": {},
   "source": [
    "#### Analytical differentiation value at 1.75"
   ]
  },
  {
   "cell_type": "code",
   "execution_count": null,
   "id": "56a98f23",
   "metadata": {},
   "outputs": [],
   "source": []
  },
  {
   "cell_type": "markdown",
   "id": "bee83c20",
   "metadata": {},
   "source": [
    "#### Numerical method for differentiation"
   ]
  },
  {
   "cell_type": "markdown",
   "id": "05e0f613",
   "metadata": {},
   "source": [
    "#### 1. First forward finite difference method"
   ]
  },
  {
   "cell_type": "markdown",
   "id": "42f2a03f",
   "metadata": {},
   "source": [
    "$f\\prime = \\frac{f(x+h)-f(x)}{h} + O(h)$\n",
    "\n",
    "$f\\prime\\prime = \\frac{f(x+2h)-2f(x+h)+f(x)}{h^2} + O(h)$\n",
    "\n"
   ]
  },
  {
   "cell_type": "code",
   "execution_count": null,
   "id": "a6fb401c",
   "metadata": {},
   "outputs": [],
   "source": []
  },
  {
   "cell_type": "code",
   "execution_count": null,
   "id": "c45d5482",
   "metadata": {},
   "outputs": [],
   "source": []
  },
  {
   "cell_type": "markdown",
   "id": "6e7b513c",
   "metadata": {},
   "source": [
    "#### 2. First backward finite difference method\n",
    "$f\\prime = \\frac{f(x)- f(x-h)}{h} + O(h)$\n",
    "\n",
    "$f\\prime\\prime = \\frac{f(x-2h)-2f(x-h)+f(x)}{h^2} + O(h)$"
   ]
  },
  {
   "cell_type": "code",
   "execution_count": null,
   "id": "711c0963",
   "metadata": {},
   "outputs": [],
   "source": []
  },
  {
   "cell_type": "code",
   "execution_count": null,
   "id": "4bbe2d39",
   "metadata": {},
   "outputs": [],
   "source": []
  },
  {
   "cell_type": "markdown",
   "id": "eec45655",
   "metadata": {},
   "source": [
    "#### 3. Second forward finite difference method\n",
    "$f\\prime = \\frac{-f(x+2h)+4f(x+h)-3f(x)}{2h} + O(h^2)$\n",
    "\n",
    "$f\\prime\\prime = \\frac{-f(x+3h)+4f(x+2h)-5f(x+h)+2f(x)}{h^2} + O(h^2)$"
   ]
  },
  {
   "cell_type": "code",
   "execution_count": null,
   "id": "ac34ec31",
   "metadata": {},
   "outputs": [],
   "source": []
  },
  {
   "cell_type": "code",
   "execution_count": null,
   "id": "e7bcf5ed",
   "metadata": {},
   "outputs": [],
   "source": []
  },
  {
   "cell_type": "markdown",
   "id": "1f843299",
   "metadata": {},
   "source": [
    "## 4. Try yourself: Obtain first and second derivative using \"Second backward finite difference method"
   ]
  },
  {
   "cell_type": "code",
   "execution_count": null,
   "id": "b94a8ab1",
   "metadata": {},
   "outputs": [],
   "source": []
  },
  {
   "cell_type": "code",
   "execution_count": null,
   "id": "590a3f5e",
   "metadata": {},
   "outputs": [],
   "source": []
  },
  {
   "cell_type": "markdown",
   "id": "108aa66a",
   "metadata": {},
   "source": [
    "#### 5. Central finite difference method\n",
    "$f\\prime = \\frac{f(x+h)- f(x-h)}{2h} + O(h^2)$\n",
    "\n",
    "$f\\prime\\prime = \\frac{f(x+h)+2f(x) +f(x-h)}{h^2} + O(h^2)$"
   ]
  },
  {
   "cell_type": "code",
   "execution_count": null,
   "id": "12327e2c",
   "metadata": {},
   "outputs": [],
   "source": []
  },
  {
   "cell_type": "code",
   "execution_count": null,
   "id": "313522cc",
   "metadata": {},
   "outputs": [],
   "source": []
  },
  {
   "cell_type": "markdown",
   "id": "d351498b",
   "metadata": {},
   "source": [
    "## Derivatives by Interpolation"
   ]
  },
  {
   "cell_type": "code",
   "execution_count": 48,
   "id": "b4314581",
   "metadata": {},
   "outputs": [
    {
     "data": {
      "text/plain": [
       "<matplotlib.collections.PathCollection at 0x7fc70b1a29d0>"
      ]
     },
     "execution_count": 48,
     "metadata": {},
     "output_type": "execute_result"
    },
    {
     "data": {
      "image/png": "[encoded data removed]",
      "text/plain": [
       "<Figure size 432x288 with 1 Axes>"
      ]
     },
     "metadata": {
      "needs_background": "light"
     },
     "output_type": "display_data"
    }
   ],
   "source": [
    "x = np.array([0.1, 0.6 ,1.2, 1.3, 1.8, 2.5])\n",
    "y = np.array([3, 7, 12.7, 13, 12, 8])\n",
    "plt.scatter(x,y)"
   ]
  },
  {
   "cell_type": "code",
   "execution_count": null,
   "id": "b48fd74e",
   "metadata": {},
   "outputs": [],
   "source": []
  },
  {
   "cell_type": "code",
   "execution_count": null,
   "id": "6cc8e3aa",
   "metadata": {},
   "outputs": [],
   "source": []
  },
  {
   "cell_type": "markdown",
   "id": "841250b7",
   "metadata": {},
   "source": [
    "### This uses least square interpolation $a_0 + a_1x + a_2x^2$\n",
    "First derivative: $a_1 + 2a_2x$\n",
    "\n",
    "Second derivative: $2a_2$"
   ]
  },
  {
   "cell_type": "code",
   "execution_count": 65,
   "id": "54d06f54",
   "metadata": {},
   "outputs": [],
   "source": [
    "#derivative at x = 0.8"
   ]
  },
  {
   "cell_type": "code",
   "execution_count": null,
   "id": "d11f7f0a",
   "metadata": {},
   "outputs": [],
   "source": []
  },
  {
   "cell_type": "markdown",
   "id": "b9c97ccd",
   "metadata": {},
   "source": [
    "## Task: Use the cubic spline interpolation to obtain first derivative."
   ]
  },
  {
   "cell_type": "code",
   "execution_count": null,
   "id": "03cebe8d",
   "metadata": {},
   "outputs": [],
   "source": []
  },
  {
   "cell_type": "code",
   "execution_count": null,
   "id": "53085298",
   "metadata": {},
   "outputs": [],
   "source": []
  },
  {
   "cell_type": "markdown",
   "id": "cb8d1cf9",
   "metadata": {},
   "source": [
    "## Derivative using Scipy"
   ]
  },
  {
   "cell_type": "markdown",
   "id": "7e28e038",
   "metadata": {},
   "source": [
    "scipy.misc.derivative(func, x0, dx=1.0, n=1, args=(), order=3)\n",
    "\n",
    "Find the nth derivative of a function at a point.\n",
    "\n",
    "Given a function, use a central difference formula with spacing dx to compute the nth derivative at x0.\n",
    "\n"
   ]
  },
  {
   "cell_type": "code",
   "execution_count": null,
   "id": "5f5e5de8",
   "metadata": {},
   "outputs": [],
   "source": []
  },
  {
   "cell_type": "markdown",
   "id": "8971c019",
   "metadata": {},
   "source": [
    "## Comment: exactly matches with the results obtained using central diff. formula"
   ]
  },
  {
   "cell_type": "code",
   "execution_count": null,
   "id": "c1578682",
   "metadata": {},
   "outputs": [],
   "source": []
  }
 ],
 "metadata": {
  "kernelspec": {
   "display_name": "Python 3 (ipykernel)",
   "language": "python",
   "name": "python3"
  },
  "language_info": {
   "codemirror_mode": {
    "name": "ipython",
    "version": 3
   },
   "file_extension": ".py",
   "mimetype": "text/x-python",
   "name": "python",
   "nbconvert_exporter": "python",
   "pygments_lexer": "ipython3",
   "version": "3.9.12"
  }
 },
 "nbformat": 4,
 "nbformat_minor": 5
}

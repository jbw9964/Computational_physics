{
 "cells": [
  {
   "cell_type": "markdown",
   "id": "fda8127f",
   "metadata": {},
   "source": [
    "## Boolean expressions"
   ]
  },
  {
   "cell_type": "markdown",
   "id": "a706b8c0",
   "metadata": {},
   "source": [
    "### Comparison operators"
   ]
  },
  {
   "cell_type": "code",
   "execution_count": null,
   "id": "602521f0",
   "metadata": {},
   "outputs": [],
   "source": []
  },
  {
   "cell_type": "markdown",
   "id": "c067100c",
   "metadata": {},
   "source": [
    "### Logical operators: and or & not"
   ]
  },
  {
   "cell_type": "code",
   "execution_count": null,
   "id": "ff534467",
   "metadata": {},
   "outputs": [],
   "source": []
  },
  {
   "cell_type": "markdown",
   "id": "e0998152",
   "metadata": {},
   "source": [
    "### Conditional execution"
   ]
  },
  {
   "cell_type": "code",
   "execution_count": null,
   "id": "6148d20c",
   "metadata": {},
   "outputs": [],
   "source": []
  },
  {
   "cell_type": "markdown",
   "id": "5febef14",
   "metadata": {},
   "source": [
    "### Example 1: Check schedule in a week\n",
    "Write a program to prompt which day it is and print if Python class is scheduled that day"
   ]
  },
  {
   "cell_type": "code",
   "execution_count": null,
   "id": "b5f77214",
   "metadata": {},
   "outputs": [],
   "source": []
  },
  {
   "cell_type": "markdown",
   "id": "ded453e7",
   "metadata": {},
   "source": [
    "### Chained conditionals"
   ]
  },
  {
   "cell_type": "code",
   "execution_count": null,
   "id": "c834c098",
   "metadata": {},
   "outputs": [],
   "source": []
  },
  {
   "cell_type": "markdown",
   "id": "524817f6",
   "metadata": {},
   "source": [
    "### Example 2: Check schedule in a week\n",
    "\n",
    "Write a program to prompt which day it is and print if Python class is scheduled that day using chained conditionals execution"
   ]
  },
  {
   "cell_type": "code",
   "execution_count": null,
   "id": "ba158fd0",
   "metadata": {},
   "outputs": [],
   "source": []
  },
  {
   "cell_type": "markdown",
   "id": "8457f28a",
   "metadata": {},
   "source": [
    "### Nested conditionals"
   ]
  },
  {
   "cell_type": "code",
   "execution_count": null,
   "id": "cd9f5774",
   "metadata": {},
   "outputs": [],
   "source": []
  },
  {
   "cell_type": "markdown",
   "id": "8ec06d65",
   "metadata": {},
   "source": [
    "### Example 3: Score and Grading\n",
    "Write a program to prompt for a score between 0.0 and 1.0. If the score is out of range, print an error message. If the score is between 0.0 and 1.0, print a grade using the following table:"
   ]
  },
  {
   "cell_type": "code",
   "execution_count": null,
   "id": "a3b04d10",
   "metadata": {},
   "outputs": [],
   "source": [
    " Score   Grade\n",
    ">= 0.9     A\n",
    ">= 0.8     B\n",
    ">= 0.7     C\n",
    ">= 0.6     D\n",
    " < 0.6     F"
   ]
  },
  {
   "cell_type": "code",
   "execution_count": null,
   "id": "912c3e47",
   "metadata": {},
   "outputs": [],
   "source": []
  },
  {
   "cell_type": "markdown",
   "id": "6ae86a67",
   "metadata": {},
   "source": [
    "## Try and Except"
   ]
  },
  {
   "cell_type": "code",
   "execution_count": null,
   "id": "9809b778",
   "metadata": {},
   "outputs": [],
   "source": []
  },
  {
   "cell_type": "markdown",
   "id": "197487ec",
   "metadata": {},
   "source": [
    "\n",
    "### Exercise 1) Print if an input variable is positive or negative. If it is positive, print if it is a two digit number "
   ]
  },
  {
   "cell_type": "code",
   "execution_count": null,
   "id": "b1f13ebf",
   "metadata": {},
   "outputs": [],
   "source": []
  },
  {
   "cell_type": "markdown",
   "id": "c1c85fc0",
   "metadata": {},
   "source": [
    "### Exercise 2) Print if an input variable is even or odd using alternative if execution \n",
    "Hint: You can use modulus operator '%' to find the remainder"
   ]
  },
  {
   "cell_type": "code",
   "execution_count": null,
   "id": "b7070061",
   "metadata": {},
   "outputs": [],
   "source": []
  },
  {
   "cell_type": "markdown",
   "id": "2516115c",
   "metadata": {},
   "source": [
    "### Exercise 3) Print if a number input is divisible by 3 and multiple of 5."
   ]
  },
  {
   "cell_type": "code",
   "execution_count": null,
   "id": "5e6135ae",
   "metadata": {},
   "outputs": [],
   "source": []
  },
  {
   "cell_type": "markdown",
   "id": "09d2ed95",
   "metadata": {},
   "source": [
    "# Class Notes for March 25th class\n",
    "\n",
    "## 0. Numpy Library\n",
    "```\n",
    "(https://numpy.org/devdocs/user/quickstart.html)\n",
    "```\n",
    "### 0. -1) Using built-in functions for making an numpy array\n",
    "\n",
    "### zeros(shape)\n",
    "Make a numpy array whose elements are all 0.\n",
    "### ones(shape)\n",
    "Make a numpy array whose elements are all 1.\n",
    "### eye(number of row, number of column=None)\n",
    "Make a numpy array whose diagonal elements are 1 while others are 0.\n",
    "\n",
    "#### np.array.```dtype```, np.array.```shape```, np.array.```size```..."
   ]
  },
  {
   "cell_type": "code",
   "execution_count": null,
   "id": "6369cb9f",
   "metadata": {},
   "outputs": [],
   "source": []
  },
  {
   "cell_type": "markdown",
   "id": "b37137fb",
   "metadata": {},
   "source": [
    "### arange(start,end,stepsize=1) \n",
    "The values in the range of ```[start, end)``` with the stepsize(optional)\n",
    "### linspace(start,end, number of points=50) \n",
    "The equally devided values from start to end by the number of points (optional)\n",
    "\n",
    "#### np.array.```reshape(shape)```"
   ]
  },
  {
   "cell_type": "code",
   "execution_count": null,
   "id": "08dc1fe2",
   "metadata": {},
   "outputs": [],
   "source": []
  },
  {
   "cell_type": "markdown",
   "id": "6efadf7c",
   "metadata": {},
   "source": [
    "### Exercise 1. Make a numpy array whose length is 10 and reshape the size of the array to (2,5).\n",
    "```"
   ]
  },
  {
   "cell_type": "code",
   "execution_count": null,
   "id": "78399880",
   "metadata": {},
   "outputs": [],
   "source": []
  },
  {
   "cell_type": "markdown",
   "id": "6d314f89",
   "metadata": {},
   "source": [
    "### 0. -2) Built-in Functions for numpy arrays\n",
    "\n",
    "### np.array.```min()```, np.array.```max()```, np.array.```sum()```, np.array.```mean()```, \n",
    "### np.```sort(np.array)```"
   ]
  },
  {
   "cell_type": "code",
   "execution_count": null,
   "id": "423bd2e3",
   "metadata": {},
   "outputs": [],
   "source": []
  },
  {
   "cell_type": "markdown",
   "id": "5224c97c",
   "metadata": {},
   "source": [
    "### 0. -3) Other Operations related to matrix operation\n",
    "\n",
    "### addition/ subtraction of matrix elements (```A+B```/ ```A-B```)\n",
    "### multiplication of matrix elements (```A*B```)\n",
    "### multiplication of matrices(```A@B```) or dot product of matrices(```np.dot(A,B)```)"
   ]
  },
  {
   "cell_type": "code",
   "execution_count": null,
   "id": "6e8f4704",
   "metadata": {},
   "outputs": [],
   "source": []
  },
  {
   "cell_type": "markdown",
   "id": "d2973756",
   "metadata": {},
   "source": [
    "### np.matrix.I ; inverse operation   ($A^{-1}$)\n",
    "\n",
    "### np.matrix.T or np.matrix.transpose() ; transpose operation    ($A^{T}$)\n",
    "\n",
    "### np.matrix.conjugate() ; complex conjugate operation    ($A^{*}$)\n",
    "\n",
    "### np.matrix.H or np.matrix.T.conjugate() ; Hermitian conjugate operation    ($A^{\\dagger}$)"
   ]
  },
  {
   "cell_type": "code",
   "execution_count": null,
   "id": "3aad3ef0",
   "metadata": {},
   "outputs": [],
   "source": []
  },
  {
   "cell_type": "markdown",
   "id": "a239b025",
   "metadata": {},
   "source": [
    "### Exercise 2. Make a 2$\\times$2 numpy matrix and print the matrix, the inverse of it, and the traspose matrix of it."
   ]
  },
  {
   "cell_type": "code",
   "execution_count": null,
   "id": "58076587",
   "metadata": {},
   "outputs": [],
   "source": []
  },
  {
   "cell_type": "markdown",
   "id": "3518b69b",
   "metadata": {},
   "source": [
    "## 1. While Loop \n",
    "\n",
    "```\n",
    "\n",
    "while (Condition): \n",
    "    Statements 1\n",
    "    Statements 2 \n",
    "    ... \n",
    "\n",
    "```\n",
    ": Statements in the while loop to be done only if the condition is true.\n",
    "\n",
    "## 1.-(1) Using the condition for a while loop"
   ]
  },
  {
   "cell_type": "code",
   "execution_count": null,
   "id": "80c56368",
   "metadata": {},
   "outputs": [],
   "source": []
  },
  {
   "cell_type": "markdown",
   "id": "97fb7de3",
   "metadata": {},
   "source": [
    "### Example 1. Print all the positive integer numbers less than 10."
   ]
  },
  {
   "cell_type": "code",
   "execution_count": null,
   "id": "83acc129",
   "metadata": {},
   "outputs": [],
   "source": []
  },
  {
   "cell_type": "markdown",
   "id": "c213c40a",
   "metadata": {},
   "source": [
    "## 1.-(2) Breaking out of a loop using 'break'"
   ]
  },
  {
   "cell_type": "code",
   "execution_count": null,
   "id": "427cca9b",
   "metadata": {},
   "outputs": [],
   "source": []
  },
  {
   "cell_type": "markdown",
   "id": "175bbaa6",
   "metadata": {},
   "source": [
    "### Example 2. Make a progam where choose an integer number between 1 and 10 and ask the user to type in any integer until the user type in the set number in the program."
   ]
  },
  {
   "cell_type": "code",
   "execution_count": null,
   "id": "cccf2da8",
   "metadata": {},
   "outputs": [],
   "source": []
  },
  {
   "cell_type": "markdown",
   "id": "d6ce6a5b",
   "metadata": {},
   "source": [
    "## 1.-(3) Finishing an iteration using 'continue'"
   ]
  },
  {
   "cell_type": "code",
   "execution_count": null,
   "id": "4265e143",
   "metadata": {},
   "outputs": [],
   "source": []
  },
  {
   "cell_type": "markdown",
   "id": "5ce02b1e",
   "metadata": {},
   "source": [
    "### Exercise 3. Change 'break' in the program you made in Exercise 2 to 'continue'. What happened?"
   ]
  },
  {
   "cell_type": "code",
   "execution_count": null,
   "id": "5f95fa0f",
   "metadata": {},
   "outputs": [],
   "source": []
  },
  {
   "cell_type": "markdown",
   "id": "742e7fb9",
   "metadata": {},
   "source": [
    "## 3. For Loop"
   ]
  },
  {
   "cell_type": "code",
   "execution_count": null,
   "id": "ca36a994",
   "metadata": {},
   "outputs": [],
   "source": []
  },
  {
   "cell_type": "markdown",
   "id": "00404459",
   "metadata": {},
   "source": [
    "### Exercise 3. Make a program to find the even numbers less than the maximum integer number which is determined by the user input. Note, use a while loop.\n",
    "\n",
    "### Exercise 4. Make the same program in Exercise 1 using a for loop."
   ]
  },
  {
   "cell_type": "code",
   "execution_count": null,
   "id": "3a3d7824",
   "metadata": {},
   "outputs": [],
   "source": []
  },
  {
   "cell_type": "code",
   "execution_count": null,
   "id": "63071b89",
   "metadata": {},
   "outputs": [],
   "source": []
  }
 ],
 "metadata": {
  "kernelspec": {
   "display_name": "Python 3 (ipykernel)",
   "language": "python",
   "name": "python3"
  },
  "language_info": {
   "codemirror_mode": {
    "name": "ipython",
    "version": 3
   },
   "file_extension": ".py",
   "mimetype": "text/x-python",
   "name": "python",
   "nbconvert_exporter": "python",
   "pygments_lexer": "ipython3",
   "version": "3.9.12"
  }
 },
 "nbformat": 4,
 "nbformat_minor": 5
}

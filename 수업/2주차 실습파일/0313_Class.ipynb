{
  "cells": [
    {
      "cell_type": "code",
      "execution_count": 1,
      "metadata": {},
      "outputs": [],
      "source": [
        "import numpy as np"
      ]
    },
    {
      "cell_type": "markdown",
      "metadata": {
        "id": "-UkiEz-SseSC"
      },
      "source": [
        "# Class Notes for March 25th class\n",
        "\n",
        "## 0. Numpy Library\n",
        "```\n",
        "(https://numpy.org/devdocs/user/quickstart.html)\n",
        "```\n",
        "### 0. -1) Using built-in functions for making an numpy array\n",
        "\n",
        "### zeros(shape)\n",
        "Make a numpy array whose elements are all 0.\n",
        "### ones(shape)\n",
        "Make a numpy array whose elements are all 1.\n",
        "### eye(number of row, number of column=None)\n",
        "Make a numpy array whose diagonal elements are 1 while others are 0.\n",
        "\n",
        "#### np.array.```dtype```, np.array.```shape```, np.array.```size```..."
      ]
    },
    {
      "cell_type": "code",
      "execution_count": 22,
      "metadata": {
        "id": "eBwl3eazsRrz"
      },
      "outputs": [
        {
          "name": "stdout",
          "output_type": "stream",
          "text": [
            "[[0. 0.]\n",
            " [0. 0.]]\n",
            "[[1. 1.]\n",
            " [1. 1.]]\n",
            "[[0. 0. 0.]\n",
            " [1. 0. 0.]\n",
            " [0. 1. 0.]]\n"
          ]
        }
      ],
      "source": [
        "arr_1 = np.zeros((2,2))\n",
        "arr_2 = np.ones((2, 2))\n",
        "arr_3 = np.eye(3, 3, k=-1)\n",
        "\n",
        "print(arr_1)\n",
        "print(arr_2)\n",
        "print(arr_3)"
      ]
    },
    {
      "cell_type": "code",
      "execution_count": null,
      "metadata": {
        "id": "KEv6ZHOhsdCw"
      },
      "outputs": [],
      "source": []
    },
    {
      "cell_type": "markdown",
      "metadata": {
        "id": "cP2n3ll3srYH"
      },
      "source": [
        "### arange(start,end,stepsize=1) \n",
        "The values in the range of ```[start, end)``` with the stepsize(optional)\n",
        "### linspace(start,end, number of points=50) \n",
        "The equally devided values from start to end by the number of points (optional)\n",
        "\n",
        "#### np.array.```reshape(shape)```"
      ]
    },
    {
      "cell_type": "code",
      "execution_count": 26,
      "metadata": {
        "id": "DOw0tpInsokr"
      },
      "outputs": [
        {
          "name": "stdout",
          "output_type": "stream",
          "text": [
            "[0 3 6 9]\n",
            "<class 'numpy.ndarray'>\n"
          ]
        }
      ],
      "source": [
        "arr_1 = np.arange(0, 10, 3)\n",
        "\n",
        "print(arr_1)\n",
        "print(type(arr_1))"
      ]
    },
    {
      "cell_type": "markdown",
      "metadata": {
        "id": "niWqkY9asyP1"
      },
      "source": [
        "### Exercise 1. Make a numpy array whose length is 10 and reshape the size of the array to (2,5)."
      ]
    },
    {
      "cell_type": "code",
      "execution_count": 32,
      "metadata": {
        "id": "gCztWkgjsona"
      },
      "outputs": [
        {
          "name": "stdout",
          "output_type": "stream",
          "text": [
            "[[0 1 2 3 4]\n",
            " [5 6 7 8 9]]\n",
            "(2, 5)\n"
          ]
        }
      ],
      "source": [
        "temp_arr = np.arange(0, 10)\n",
        "temp_arr = temp_arr.reshape((2,5))\n",
        "print(temp_arr)\n",
        "print(temp_arr.shape)"
      ]
    },
    {
      "cell_type": "markdown",
      "metadata": {
        "id": "rbXVheqts3vr"
      },
      "source": [
        "### 0. -2) Built-in Functions for numpy arrays\n",
        "\n",
        "### np.array.```min()```, np.array.```max()```, np.array.```sum()```, np.array.```mean()```, \n",
        "### np.```sort(np.array)```"
      ]
    },
    {
      "cell_type": "code",
      "execution_count": 38,
      "metadata": {
        "id": "4b58zoGWsop2"
      },
      "outputs": [
        {
          "name": "stdout",
          "output_type": "stream",
          "text": [
            "[0 5 9 4 8 1 0 1 3 0]\n",
            "[0 0 0 1 1 3 4 5 8 9]\n",
            "0 9 31 3.1\n"
          ]
        }
      ],
      "source": [
        "temp_arr = np.random.randint(0, 10, size=10)\n",
        "print(temp_arr)\n",
        "temp_arr = np.sort(temp_arr)\n",
        "print(temp_arr)\n",
        "print(temp_arr.min(), temp_arr.max(), temp_arr.sum(), temp_arr.mean())"
      ]
    },
    {
      "cell_type": "markdown",
      "metadata": {
        "id": "tqocYkP9s94P"
      },
      "source": [
        "### 0. -3) Other Operations related to matrix operation\n",
        "\n",
        "### addition/ subtraction of matrix elements (```A+B```/ ```A-B```)\n",
        "### multiplication of matrix elements (```A*B```)\n",
        "### multiplication of matrices(```A@B```) or dot product of matrices(```np.dot(A,B)```)"
      ]
    },
    {
      "cell_type": "code",
      "execution_count": 41,
      "metadata": {
        "id": "5qDRdZdcsosS"
      },
      "outputs": [
        {
          "name": "stdout",
          "output_type": "stream",
          "text": [
            "[[ 6  8]\n",
            " [10 12]]\n",
            "[[ 5 12]\n",
            " [21 32]]\n",
            "[[19 22]\n",
            " [43 50]]\n",
            "19\n"
          ]
        }
      ],
      "source": [
        "temp_arr_1 = np.array([[1, 2], \n",
        "                       [3, 4]])\n",
        "temp_arr_2 = np.array([[5, 6], \n",
        "                       [7, 8]])\n",
        "\n",
        "print(temp_arr_1 + temp_arr_2)\n",
        "print(temp_arr_1 * temp_arr_2)\n",
        "print(temp_arr_1 @ temp_arr_2)\n",
        "print(1 * 5 + 2 * 7)"
      ]
    },
    {
      "cell_type": "markdown",
      "metadata": {
        "id": "BWiBdf3ktAdo"
      },
      "source": [
        "### np.matrix.I ; inverse operation   ($A^{-1}$)\n",
        "\n",
        "### np.matrix.T or np.matrix.transpose() ; transpose operation    ($A^{T}$)\n",
        "\n",
        "### np.matrix.conjugate() ; complex conjugate operation    ($A^{*}$)\n",
        "\n",
        "### np.matrix.H or np.matrix.T.conjugate() ; Hermitian conjugate operation    ($A^{\\dagger}$)"
      ]
    },
    {
      "cell_type": "code",
      "execution_count": 48,
      "metadata": {
        "id": "edutbpllsovA"
      },
      "outputs": [
        {
          "name": "stdout",
          "output_type": "stream",
          "text": [
            "[[1. 0. 0.]\n",
            " [0. 1. 0.]\n",
            " [0. 0. 1.]]\n",
            "[[1 2 3]\n",
            " [4 5 6]\n",
            " [7 8 9]]\n",
            "[[1 4 7]\n",
            " [2 5 8]\n",
            " [3 6 9]]\n"
          ]
        }
      ],
      "source": [
        "temp_arr_1 = np.array(\n",
        "    [[1, 2, 3],\n",
        "    [4, 5, 6],\n",
        "    [7, 8, 9]]\n",
        ")\n",
        "\n",
        "print(np.matrix(np.identity(3)).I)\n",
        "print(np.matrix(temp_arr_1).conjugate())\n",
        "print(np.matrix(temp_arr_1).H)"
      ]
    },
    {
      "cell_type": "markdown",
      "metadata": {
        "id": "QSoFpkB7tG3F"
      },
      "source": [
        "### Exercise 2. Make a 2 ×2 numpy matrix and print the matrix, the inverse of it, and the traspose matrix of it"
      ]
    },
    {
      "cell_type": "code",
      "execution_count": 50,
      "metadata": {
        "id": "7G8x5c--soxX"
      },
      "outputs": [
        {
          "name": "stdout",
          "output_type": "stream",
          "text": [
            "[[0.73200703 0.28848982]\n",
            " [0.09740136 0.74433195]]\n",
            "\n",
            "[[ 1.44039087 -0.55826987]\n",
            " [-0.18848585  1.41654036]]\n",
            "\n",
            "[[0.73200703 0.09740136]\n",
            " [0.28848982 0.74433195]]\n"
          ]
        }
      ],
      "source": [
        "temp_matrix = np.matrix(np.random.random(4).reshape((2,2)))\n",
        "print(temp_matrix)\n",
        "print()\n",
        "print(temp_matrix.I)\n",
        "print()\n",
        "print(temp_matrix.T)"
      ]
    },
    {
      "cell_type": "markdown",
      "metadata": {
        "id": "y8saQWiWtQDc"
      },
      "source": [
        "## 1. While Loop \n",
        "\n",
        "```\n",
        "\n",
        "while (Condition): \n",
        "    Statements 1\n",
        "    Statements 2 \n",
        "    ... \n",
        "\n",
        "```\n",
        ": Statements in the while loop to be done only if the condition is true.\n",
        "\n",
        "## 1.-(1) Using the condition for a while loop\n",
        "### Example 1. Print all the positive integer numbers less than 10."
      ]
    },
    {
      "cell_type": "code",
      "execution_count": 51,
      "metadata": {
        "id": "2OauUkbTsoz8"
      },
      "outputs": [
        {
          "name": "stdout",
          "output_type": "stream",
          "text": [
            "1\n",
            "2\n",
            "3\n",
            "4\n",
            "5\n",
            "6\n",
            "7\n",
            "8\n",
            "9\n"
          ]
        }
      ],
      "source": [
        "\n",
        "num = 1\n",
        "while num < 10 : \n",
        "    print(num)\n",
        "    num += 1"
      ]
    },
    {
      "cell_type": "markdown",
      "metadata": {
        "id": "bb4Q5SiGtW27"
      },
      "source": [
        "### Example 2. Make a progam where choose an integer number between 1 and 10 and ask the user to type in any integer until the user type in the set number in the program."
      ]
    },
    {
      "cell_type": "code",
      "execution_count": null,
      "metadata": {
        "id": "gkDju9x2so2o"
      },
      "outputs": [],
      "source": []
    },
    {
      "cell_type": "markdown",
      "metadata": {
        "id": "Bh37jFZUtd24"
      },
      "source": [
        "### Exercise 3. Change 'break' in the program you made in Exercise 2 to 'continue'. What happened?"
      ]
    },
    {
      "cell_type": "code",
      "execution_count": null,
      "metadata": {
        "id": "MPaohOT2sdIU"
      },
      "outputs": [],
      "source": []
    },
    {
      "cell_type": "markdown",
      "metadata": {
        "id": "QucFwINxti9M"
      },
      "source": [
        "## 2. For Loop\n",
        "### Exercise 1. Make a program to find the even numbers less than the maximum integer number which is determined by the user input. Note, use a while loop.\n",
        "\n",
        "\n",
        "### Exercise 2. Make the same program in Exercise 1 using a for loop."
      ]
    },
    {
      "cell_type": "code",
      "execution_count": 54,
      "metadata": {
        "id": "uf5S9mYKsdMG"
      },
      "outputs": [
        {
          "name": "stdout",
          "output_type": "stream",
          "text": [
            "[2, 4, 6, 8, 10, 12, 14]\n"
          ]
        }
      ],
      "source": [
        "\n",
        "max_num = 15\n",
        "\n",
        "temp_list = [int(value) for value in range(max_num) if value % 2 == 0 and value != 0]\n",
        "print(temp_list)"
      ]
    },
    {
      "cell_type": "code",
      "execution_count": null,
      "metadata": {
        "id": "owApBzzpsdR3"
      },
      "outputs": [],
      "source": []
    },
    {
      "cell_type": "markdown",
      "metadata": {
        "id": "bhog1G7TuEY3"
      },
      "source": [
        "##3. Plot\n",
        "###  Plotting with ```matplotlib.pyplot```\n",
        "(https://matplotlib.org/api/_as_gen/matplotlib.pyplot.html#functions)\n",
        "\n",
        "### 3-1) 2D Line Plot : ```plt.plot( x , y , '[marker][line][color]' )```\n",
        "(https://matplotlib.org/api/_as_gen/matplotlib.pyplot.plot.html#matplotlib.pyplot.plot)"
      ]
    },
    {
      "cell_type": "code",
      "execution_count": 66,
      "metadata": {
        "id": "WJw6IXttuJ9m"
      },
      "outputs": [
        {
          "data": {
            "image/png": "[encoded data removed]",
            "text/plain": [
              "<Figure size 432x288 with 1 Axes>"
            ]
          },
          "metadata": {
            "needs_background": "light"
          },
          "output_type": "display_data"
        }
      ],
      "source": [
        "import matplotlib.pyplot as plt\n",
        "\n",
        "plt.plot(np.random.random(10), np.random.random(10), 'o')\n",
        "plt.plot(np.random.randint(0, 10, 10), np.random.randint(0, 10, 10), 'o')\n",
        "plt.show()"
      ]
    },
    {
      "cell_type": "markdown",
      "metadata": {
        "id": "k90GpM5quZZa"
      },
      "source": [
        "### 3.-2) Scatter Plot : ```plt.scatter(x, y, s=None, c=None, marker=None)```\n",
        "(https://matplotlib.org/api/_as_gen/matplotlib.pyplot.scatter.html?highlight=scatter#matplotlib.pyplot.scatter)"
      ]
    },
    {
      "cell_type": "code",
      "execution_count": 83,
      "metadata": {
        "id": "1DdDIoZ7uKAS"
      },
      "outputs": [
        {
          "data": {
            "image/png": "[encoded data removed]",
            "text/plain": [
              "<Figure size 432x288 with 2 Axes>"
            ]
          },
          "metadata": {
            "needs_background": "light"
          },
          "output_type": "display_data"
        }
      ],
      "source": [
        "x = np.random.random(50)\n",
        "y = np.random.random(50)\n",
        "color = y * x\n",
        "arera = (30 * y * x) ** 2\n",
        "plt.scatter(x, y, s=arera, c=color, alpha=0.7)\n",
        "plt.colorbar()\n",
        "plt.show()"
      ]
    },
    {
      "cell_type": "code",
      "execution_count": 98,
      "metadata": {},
      "outputs": [
        {
          "data": {
            "image/png": "[encoded data removed]",
            "text/plain": [
              "<Figure size 432x288 with 2 Axes>"
            ]
          },
          "metadata": {
            "needs_background": "light"
          },
          "output_type": "display_data"
        }
      ],
      "source": [
        "x = np.random.random(50) * 100\n",
        "y = np.random.random(50) * 100\n",
        "arera = 500\n",
        "# plt.scatter(x, y, s=arera, alpha=0.7, c=np.random.random(50))\n",
        "plt.scatter(np.random.random(50) * 100, np.random.random(50) * 100, s=arera, alpha=0.7, c=np.random.random(50), label='scat_2')\n",
        "plt.colorbar()\n",
        "plt.legend()\n",
        "plt.show()"
      ]
    },
    {
      "cell_type": "code",
      "execution_count": 100,
      "metadata": {},
      "outputs": [
        {
          "name": "stdout",
          "output_type": "stream",
          "text": [
            "100\n"
          ]
        }
      ],
      "source": [
        "x = np.random.random(1000) * 10\n",
        "y = np.random.random(1000) * 10\n",
        "\n",
        "x = [value for value in x if value <= 1.0 and value >= -1.0]\n",
        "y = [value for value in y if value <= 1.0 and value >= -1.0]\n",
        "\n"
      ]
    },
    {
      "cell_type": "markdown",
      "metadata": {
        "id": "MdrdOyT7ugs_"
      },
      "source": [
        "### 3.-3) Histogram Plot : \n",
        "```plt.hist(x,bins=None, range=None, histtype='bar', align='mid', orientation='vertical')```\n",
        "(https://matplotlib.org/api/_as_gen/matplotlib.pyplot.hist.html#matplotlib.pyplot.hist)"
      ]
    },
    {
      "cell_type": "code",
      "execution_count": null,
      "metadata": {
        "id": "HaHeFUzJuKDK"
      },
      "outputs": [],
      "source": []
    },
    {
      "cell_type": "code",
      "execution_count": null,
      "metadata": {
        "id": "eGrC0XZDvVVX"
      },
      "outputs": [],
      "source": []
    },
    {
      "cell_type": "markdown",
      "metadata": {
        "id": "Z4ymPOSbu7PZ"
      },
      "source": [
        "```\n",
        "### Exercise 1. Plot $y1 = {\\bf sin}(x)$ as red diamond markers, and $y2 = {\\bf cos}(x)$ as blue circle markers. Note, express $x$ and $y$ axis labels and the legend."
      ]
    },
    {
      "cell_type": "code",
      "execution_count": null,
      "metadata": {
        "id": "P7t6523auKFM"
      },
      "outputs": [],
      "source": []
    },
    {
      "cell_type": "markdown",
      "metadata": {
        "id": "da3HfCrvu_EE"
      },
      "source": [
        "### Exercise 2. Using scatter plot, plot the points (x,y) which satisfy the conditions $x^2+y^2<1$ and $x^2+y^2>0.5$ within the x-, y- range of [-1, 1].\n",
        "```"
      ]
    },
    {
      "cell_type": "code",
      "execution_count": null,
      "metadata": {
        "id": "ZcYYcgkKuKHY"
      },
      "outputs": [],
      "source": [
        "x = np.random.uniform(-1, 1, size=100)\n",
        "y = np.random.uniform(-1, 1, size=100)\n",
        "\n"
      ]
    },
    {
      "cell_type": "markdown",
      "metadata": {
        "id": "sUVELOlEvAhv"
      },
      "source": [
        "### Exercise 3. Starting from null array 'x', append 10 random numbers in the range of ```[0,10)``` to the array 'x' and make the distribution of the numbers in 'x' as a histogram."
      ]
    },
    {
      "cell_type": "code",
      "execution_count": null,
      "metadata": {
        "id": "PPimTmuYuKM6"
      },
      "outputs": [],
      "source": []
    },
    {
      "attachments": {},
      "cell_type": "markdown",
      "metadata": {
        "id": "f2P2M2SIuJDf"
      },
      "source": [
        "## 4. ```solve``` Function in ```numpy.linalg``` Module\n",
        "\n",
        "Let's suppose that we want to find the answer $(x,y)$ which satisfy both equations below.\n",
        "\\begin{equation}\n",
        "\\begin{aligned}\n",
        "x + y &= 3 \\quad \\quad(1) \\\\\n",
        "2x - y &=1 \\quad \\quad(2)\n",
        "\\end{aligned}\n",
        "\\end{equation}\n",
        "\n",
        "Using the matrix form,\n",
        "$\\begin{equation}\n",
        "\\begin{pmatrix} 1 & 1 \\\\ 2 & -1 \\end{pmatrix} \\begin{pmatrix} x\\\\ y \\end{pmatrix} = \\begin{pmatrix} 3\\\\ 1 \\end{pmatrix},\n",
        "\\end{equation}$\n",
        "\n",
        "we can find the solution for (x,y) multiplying inverse matrix of $\\begin{pmatrix} 1 & 1 \\\\ 2 & -1 \\end{pmatrix}$ to the left side of $\\begin{pmatrix} 3\\\\ 1 \\end{pmatrix}$.\n",
        "\n",
        "$\\begin{equation}\n",
        "\\begin{aligned}\n",
        "\\begin{pmatrix} x\\\\ y \\end{pmatrix} &= \\begin{pmatrix} 1 & 1 \\\\ 2 & -1 \\end{pmatrix}^{-1}\\,\\begin{pmatrix} 3\\\\ 1 \\end{pmatrix}\\\\\n",
        "&= \\frac{1}{1\\times(-1)-2\\times 1} \\begin{pmatrix} -1 & -1 \\\\ -2 & 1 \\end{pmatrix}\\,\\begin{pmatrix} 3\\\\ 1 \\end{pmatrix}\\\\\n",
        "&= \\frac{1}{-3} \\begin{pmatrix} (-1)\\times 3 +(-1)\\times 1 \\\\ (-2)\\times 3 + 1 \\times 1 \\end{pmatrix} \\\\\n",
        "&=\\begin{pmatrix} 4/3 \\\\ 5/3 \\end{pmatrix}\n",
        "\\end{aligned}\n",
        "\\end{equation}$\n",
        "\n",
        "We can use ```numpy.linalg.solve(A,B)``` to find $X =(x,y)$ satisfying $A X = B$"
      ]
    },
    {
      "cell_type": "code",
      "execution_count": null,
      "metadata": {
        "id": "NSzBIOKMvqJ-"
      },
      "outputs": [],
      "source": []
    },
    {
      "cell_type": "markdown",
      "metadata": {
        "id": "qwpsmvc1uJGO"
      },
      "source": [
        "### Exercise 3. Find a crossing point $(x,y)$ of two lines using ```numpy.linalg.solve```."
      ]
    },
    {
      "cell_type": "code",
      "execution_count": null,
      "metadata": {
        "id": "EM37LgQTvyxr"
      },
      "outputs": [],
      "source": []
    }
  ],
  "metadata": {
    "colab": {
      "private_outputs": true,
      "provenance": []
    },
    "kernelspec": {
      "display_name": "Python 3",
      "name": "python3"
    },
    "language_info": {
      "codemirror_mode": {
        "name": "ipython",
        "version": 3
      },
      "file_extension": ".py",
      "mimetype": "text/x-python",
      "name": "python",
      "nbconvert_exporter": "python",
      "pygments_lexer": "ipython3",
      "version": "3.10.0"
    }
  },
  "nbformat": 4,
  "nbformat_minor": 0
}

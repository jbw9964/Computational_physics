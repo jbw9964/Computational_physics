{
 "cells": [
  {
   "attachments": {},
   "cell_type": "markdown",
   "metadata": {},
   "source": [
    "### 1. Simplify the problem"
   ]
  },
  {
   "attachments": {},
   "cell_type": "markdown",
   "metadata": {},
   "source": [
    "##### problem say,\n",
    "##### $$ x_{(v_{0}, \\theta, t)} = \\frac{v_{0x}}{\\gamma}(1 - e^{-\\gamma t}) $$\n",
    "##### $$ y_{(v_{0}, \\theta, t)} = (\\frac{v_{0y}}{\\gamma} + \\frac{g}{\\gamma^{2}})(1 - e^{-\\gamma t}) - \\frac{g}{\\gamma}t$$\n",
    "\n",
    "$$ g = 9.81m/s^{2}, \\ \\gamma = 0.01v_{0}  $$ \n",
    "\n",
    "##### and find $ v_{0}, \\theta, t $ where projectile reaches point $ A (x = 300, y = 61)$ with $ 45\\degree $."
   ]
  },
  {
   "attachments": {},
   "cell_type": "markdown",
   "metadata": {},
   "source": [
    "##### problem provide the condition $ \\frac{\\partial x}{\\partial t} = -\\frac{\\partial y}{\\partial t} $ since at point A, projectile is $45\\degree$\n",
    "\n",
    "##### also we already know $ v_{0x} = v_{0}\\cos\\theta, v_{0y} = v_{0}\\sin\\theta $"
   ]
  },
  {
   "attachments": {},
   "cell_type": "markdown",
   "metadata": {},
   "source": [
    "##### eventually we have to solve the problem where,\n",
    "\n",
    "##### $$ f_{1(v_{0}, \\theta, t)} = x_{(v_{0}, \\theta, t)} - 300 = 0 $$\n",
    "##### $$ f_{2(v_{0}, \\theta, t)} = y_{(v_{0}, \\theta, t)} - 61 = 0 $$\n",
    "##### $$ f_{3(v_{0}, \\theta, t)} = \\frac{\\partial x_{(v_{0}, \\theta, t)}}{\\partial t} + \\frac{\\partial y_{(v_{0}, \\theta, t)}}{\\partial t} = 0 $$"
   ]
  },
  {
   "attachments": {},
   "cell_type": "markdown",
   "metadata": {},
   "source": [
    "### 2. Define functions to solve problems"
   ]
  },
  {
   "attachments": {},
   "cell_type": "markdown",
   "metadata": {},
   "source": [
    "##### applying $g = 9.81m/s^{2}, \\gamma = 0.01s^{-1}, v_{0x} = v_{0}\\cos\\theta, v_{0y} = v_{0}\\sin\\theta $ to $x, y, f$, \n",
    "##### they becomes\n",
    "\n",
    "##### $$ x_{(v_{0}, \\theta, t)} = \\frac{v_{0}\\cos\\theta}{0.01}(1 - e^{-0.01t}) = 100v_{0}\\cos\\theta(1 - e^{-0.01t}) $$\n",
    "\n",
    "#### $$ y_{(v_{0}, \\theta, t)} = (\\frac{v_{0}\\sin\\theta}{0.01} + \\frac{9.81}{(0.01)^{2}})(1 - e^{-0.01t}) - \\frac{9.81}{0.01}t $$\n",
    "\n",
    "#### $$ = (100v_{0}\\sin\\theta + \\frac{9.81}{(0.01)^2})(1 - e^{-0.01t}) - 981t $$"
   ]
  },
  {
   "attachments": {},
   "cell_type": "markdown",
   "metadata": {},
   "source": [
    "#### $$ \\frac{\\partial x}{\\partial t} = v_{0} \\cos\\theta e^{-0.01t} $$\n",
    "\n",
    "#### $$ \\frac{\\partial y}{\\partial t} = (v_{0}\\sin\\theta + 981)e^{-0.01t} - 981 $$\n"
   ]
  },
  {
   "attachments": {},
   "cell_type": "markdown",
   "metadata": {},
   "source": [
    "#### Eventually,\n",
    "#### $$ f_{1(v_{0}, \\theta, t)} = 100v_{0}\\cos\\theta(1 - e^{-0.01t}) - 300 = 0 $$\n",
    "#### $$ f_{2(v_{0}, \\theta, t)} = (100v_{0}\\sin\\theta + \\frac{9.81}{(0.01)^2})(1 - e^{-0.01t}) - 981t - 61 = 0 $$\n",
    "#### $$ f_{3(v_{0}, \\theta, t)} = v_{0} \\cos\\theta e^{-0.01t} + (v_{0}\\sin\\theta + 981)e^{-0.01t} - 981 = 0 $$"
   ]
  },
  {
   "attachments": {},
   "cell_type": "markdown",
   "metadata": {},
   "source": [
    "##### Now we can use Newton-Raphson method"
   ]
  },
  {
   "attachments": {},
   "cell_type": "markdown",
   "metadata": {},
   "source": [
    "### 3. Solve problem"
   ]
  },
  {
   "cell_type": "code",
   "execution_count": 1,
   "metadata": {},
   "outputs": [],
   "source": [
    "# define Newton-Rapshon method\n",
    "# use np.linalg.solve \n",
    "\n",
    "import numpy as np\n",
    "from time import time\n",
    "\n",
    "def NewtonRaphson(func : list, x_init=None, increment=1.0e-4, tol=1.0e-9, max_iter=100) : \n",
    "    import numpy as np\n",
    "    from math import sqrt\n",
    "    from time import time\n",
    "\n",
    "    n = len(func)\n",
    "    if x_init is None : \n",
    "        x_init = np.zeros((n), dtype=float).flatten()\n",
    "        for i in range(n) : \n",
    "            x_init[i] = 1\n",
    "    elif len(x_init) != n : \n",
    "        print(\"x_init must be same dimensions with func\")\n",
    "        return None, None, None\n",
    "    elif type(x_init) == type(list()) : \n",
    "        x_init = np.array(x_init, dtype=float)\n",
    "    else : \n",
    "        x_init = x_init.astype(dtype=float)\n",
    "\n",
    "    iter = 0\n",
    "    compute_time = time()\n",
    "    while True : \n",
    "        # print(\"x_init\", x_init, sep=\"\\n\")\n",
    "        Jacobian = np.zeros((n,n), dtype=float)\n",
    "        f_x = np.zeros(x_init.shape, dtype=float)\n",
    "\n",
    "        for i in range(n) : \n",
    "            fi = func[i]\n",
    "\n",
    "            for j in range(n) : \n",
    "                step = np.zeros(x_init.shape, dtype=float)\n",
    "                step[j] = increment\n",
    "                Jacobian[i, j] = (fi(*(x_init + step)) - fi(*x_init)) / increment\n",
    "            \n",
    "            f_x[i] = -1 * fi(*x_init)\n",
    "\n",
    "        # if sqrt(abs(max(f_x) * max(f_x))) <= tol : \n",
    "        #     compute_time = time() - compute_time\n",
    "        #     break\n",
    "        \n",
    "        # print(\"jaco\", Jacobian, sep=\"\\n\")\n",
    "        # print(\"fx\", f_x, sep=\"\\n\")\n",
    "        del_x = np.linalg.solve(Jacobian, f_x)\n",
    "\n",
    "        if sqrt(abs(del_x.T @ del_x)) <= tol : \n",
    "            compute_time = time() - compute_time\n",
    "            break\n",
    "        else : \n",
    "            x_init += del_x\n",
    "            # print(\"del_x\", del_x, sep=\"\\n\")\n",
    "            # print()\n",
    "        \n",
    "        if iter >= max_iter : \n",
    "            print(\"Failed to converge.\")\n",
    "            return None, iter, time() - compute_time\n",
    "        \n",
    "        iter += 1\n",
    "\n",
    "    return x_init, iter, compute_time"
   ]
  },
  {
   "cell_type": "code",
   "execution_count": 2,
   "metadata": {},
   "outputs": [],
   "source": [
    "import numpy as np\n",
    "from numpy import cos, sin, exp\n",
    "\n",
    "def f1(v0, theta, t) : \n",
    "    return 100 * v0 * cos(theta) * (1 - exp(-0.01 * t)) - 300\n",
    "\n",
    "def f2(v0, theta, t) : \n",
    "    return (100 * v0 * sin(theta) + 9.81 / (0.01**2)) * (1 - exp(-0.01 * t)) - 981 * t - 61\n",
    "\n",
    "def f3(v0, theta, t) : \n",
    "    return v0 * cos(theta) * exp(-0.01 * t) + (v0 * sin(theta) + 981) * exp(-0.01 * t) - 981"
   ]
  },
  {
   "cell_type": "code",
   "execution_count": 3,
   "metadata": {},
   "outputs": [
    {
     "name": "stdout",
     "output_type": "stream",
     "text": [
      "v0 :  61.868661764823806\n",
      "theta (degree) :  53.28131809236353\n",
      "time :  8.458019157908735\n",
      "3\n",
      "2.188698999816552e-09\n",
      "3.1850504456087947e-09\n",
      "6.164100341266021e-10\n"
     ]
    }
   ],
   "source": [
    "solution, iter, compute_time = NewtonRaphson(func=[f1, f2, f3], max_iter=10000, x_init=[60, 54 * np.pi / 180, 8])\n",
    "\n",
    "print(\"v0 : \", solution[0])\n",
    "print(\"theta (degree) : \", (solution[1] * 180 / np.pi) % 360)\n",
    "print(\"time : \", solution[2])\n",
    "print(iter)\n",
    "\n",
    "v0 = solution[0]\n",
    "theta = solution[1]\n",
    "t = solution[2]\n",
    "\n",
    "print(f1(v0=v0, theta=theta, t=t))\n",
    "print(f2(v0=v0, theta=theta, t=t))\n",
    "print(f3(v0=v0, theta=theta, t=t))"
   ]
  },
  {
   "cell_type": "code",
   "execution_count": 55,
   "metadata": {},
   "outputs": [
    {
     "data": {
      "image/png": "[encoded data removed]",
      "text/plain": [
       "<Figure size 432x288 with 1 Axes>"
      ]
     },
     "metadata": {
      "needs_background": "light"
     },
     "output_type": "display_data"
    }
   ],
   "source": [
    "import matplotlib.pyplot as plt\n",
    "\n",
    "t = np.linspace(-10, 10)\n",
    "plt.plot(f1(v0, theta, t), f2(v0, theta, t))\n",
    "plt.show()"
   ]
  },
  {
   "cell_type": "code",
   "execution_count": null,
   "metadata": {},
   "outputs": [],
   "source": []
  }
 ],
 "metadata": {
  "kernelspec": {
   "display_name": "Python 3",
   "language": "python",
   "name": "python3"
  },
  "language_info": {
   "codemirror_mode": {
    "name": "ipython",
    "version": 3
   },
   "file_extension": ".py",
   "mimetype": "text/x-python",
   "name": "python",
   "nbconvert_exporter": "python",
   "pygments_lexer": "ipython3",
   "version": "3.10.0"
  },
  "orig_nbformat": 4
 },
 "nbformat": 4,
 "nbformat_minor": 2
}
